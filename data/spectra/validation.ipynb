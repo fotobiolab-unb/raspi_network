{
 "cells": [
  {
   "cell_type": "code",
   "execution_count": 1,
   "metadata": {},
   "outputs": [],
   "source": [
    "import json\n",
    "import pandas as pd\n",
    "import numpy as np"
   ]
  },
  {
   "cell_type": "code",
   "execution_count": 24,
   "metadata": {
    "collapsed": true,
    "jupyter": {
     "outputs_hidden": true
    }
   },
   "outputs": [
    {
     "data": {
      "text/plain": [
       "{'440': [8.28691072930097,\n",
       "  16.969144954176567,\n",
       "  -0.03762955826175123,\n",
       "  0.7144584646211575,\n",
       "  438.83268710508725],\n",
       " '470': [7.48663394846013,\n",
       "  22.39832769279835,\n",
       "  -0.026126347658920756,\n",
       "  0.5820076799259942,\n",
       "  469.1396127982954],\n",
       " '495': [6.3097280786613785,\n",
       "  24.622045097754327,\n",
       "  -0.031336153632372556,\n",
       "  0.4685330184110434,\n",
       "  493.8408066569592],\n",
       " '530': [5.375242537758548,\n",
       "  30.926993468698544,\n",
       "  -0.02239693371436714,\n",
       "  0.47141314468491813,\n",
       "  522.5961992949494],\n",
       " '595': [2.141166878502169,\n",
       "  14.954282181134916,\n",
       "  0.025261762229087867,\n",
       "  0.6132208833495716,\n",
       "  596.5676235390304],\n",
       " '634': [5.28163593978372,\n",
       "  16.733745798113073,\n",
       "  0.04741898411571205,\n",
       "  0.5594236100268427,\n",
       "  635.223104551172],\n",
       " '660': [5.145963326544925,\n",
       "  19.062221737422384,\n",
       "  0.04776843377911945,\n",
       "  0.5570733930427237,\n",
       "  660.2844490143182],\n",
       " '684': [8.348609961964955,\n",
       "  23.801113955671234,\n",
       "  0.03708604960960036,\n",
       "  0.40126681820255994,\n",
       "  683.3105800770115],\n",
       " 'branco': [2.012455723944545,\n",
       "  11.41406112175179,\n",
       "  20.629103937881954,\n",
       "  115.08508693649723,\n",
       "  0.004944831528082617,\n",
       "  -0.004471388271503499,\n",
       "  0.6886160052187504,\n",
       "  1.504083113318706e-22,\n",
       "  449.1903968307287,\n",
       "  571.6590427390445],\n",
       " 'full': [2.182073054868542,\n",
       "  11.374542169940316,\n",
       "  19.801667617984812,\n",
       "  92.96284259551098,\n",
       "  -0.038069363065411706,\n",
       "  -0.005382624518710178,\n",
       "  0.7861503780163239,\n",
       "  0.016325518466025483,\n",
       "  454.3008686366891,\n",
       "  651.5082496628637],\n",
       " 'header': ['A0', 'A1', 'b0', 'b1', 'c0', 'c1', 'f0', 'f1', 'x00', 'x01']}"
      ]
     },
     "execution_count": 24,
     "metadata": {},
     "output_type": "execute_result"
    }
   ],
   "source": [
    "parameters = {}\n",
    "with open(\"parameters.json\") as file:\n",
    "    parameters = json.load(file)\n",
    "parameters"
   ]
  },
  {
   "cell_type": "code",
   "execution_count": 4,
   "metadata": {},
   "outputs": [],
   "source": [
    "neutral_spectrum_components = {}\n",
    "with open(\"neutral_spectrum_components.json\") as file:\n",
    "    neutral_spectrum_components = json.load(file)[\"coefficients\"]"
   ]
  },
  {
   "cell_type": "code",
   "execution_count": 5,
   "metadata": {},
   "outputs": [
    {
     "data": {
      "text/plain": [
       "{'440': 0.2345996831531853,\n",
       " '470': 0.3009961550222661,\n",
       " '495': 0.37546771741691637,\n",
       " '530': 0.28211687274917013,\n",
       " '595': 0.17609814440797206,\n",
       " '634': 0.1490444072029084,\n",
       " '660': 0.2145333049075533,\n",
       " '684': 0.30246412667317074,\n",
       " 'branco': 0.9999537477523128,\n",
       " 'full': 0.23291515239948163}"
      ]
     },
     "execution_count": 5,
     "metadata": {},
     "output_type": "execute_result"
    }
   ],
   "source": [
    "neutral_spectrum_components"
   ]
  },
  {
   "cell_type": "code",
   "execution_count": 6,
   "metadata": {},
   "outputs": [],
   "source": [
    "validation = pd.read_csv(\"validation/validation.csv\",sep=\"\\t\")"
   ]
  },
  {
   "cell_type": "code",
   "execution_count": 9,
   "metadata": {},
   "outputs": [],
   "source": [
    "validation = validation.set_index(\"painel\")"
   ]
  },
  {
   "cell_type": "code",
   "execution_count": 10,
   "metadata": {},
   "outputs": [
    {
     "data": {
      "text/html": [
       "<div>\n",
       "<style scoped>\n",
       "    .dataframe tbody tr th:only-of-type {\n",
       "        vertical-align: middle;\n",
       "    }\n",
       "\n",
       "    .dataframe tbody tr th {\n",
       "        vertical-align: top;\n",
       "    }\n",
       "\n",
       "    .dataframe thead th {\n",
       "        text-align: right;\n",
       "    }\n",
       "</style>\n",
       "<table border=\"1\" class=\"dataframe\">\n",
       "  <thead>\n",
       "    <tr style=\"text-align: right;\">\n",
       "      <th></th>\n",
       "      <th>1</th>\n",
       "      <th>2</th>\n",
       "      <th>3</th>\n",
       "      <th>r1</th>\n",
       "      <th>r2</th>\n",
       "    </tr>\n",
       "    <tr>\n",
       "      <th>painel</th>\n",
       "      <th></th>\n",
       "      <th></th>\n",
       "      <th></th>\n",
       "      <th></th>\n",
       "      <th></th>\n",
       "    </tr>\n",
       "  </thead>\n",
       "  <tbody>\n",
       "    <tr>\n",
       "      <td>branco</td>\n",
       "      <td>13</td>\n",
       "      <td>9.12</td>\n",
       "      <td>9.17</td>\n",
       "      <td>12.85</td>\n",
       "      <td>13.7</td>\n",
       "    </tr>\n",
       "    <tr>\n",
       "      <td>full</td>\n",
       "      <td>13</td>\n",
       "      <td>9.42</td>\n",
       "      <td>9.40</td>\n",
       "      <td>12.50</td>\n",
       "      <td>12.8</td>\n",
       "    </tr>\n",
       "    <tr>\n",
       "      <td>440</td>\n",
       "      <td>8</td>\n",
       "      <td>9.02</td>\n",
       "      <td>9.06</td>\n",
       "      <td>7.82</td>\n",
       "      <td>7.6</td>\n",
       "    </tr>\n",
       "    <tr>\n",
       "      <td>470</td>\n",
       "      <td>7</td>\n",
       "      <td>8.55</td>\n",
       "      <td>8.57</td>\n",
       "      <td>6.78</td>\n",
       "      <td>6.2</td>\n",
       "    </tr>\n",
       "    <tr>\n",
       "      <td>495</td>\n",
       "      <td>6</td>\n",
       "      <td>8.52</td>\n",
       "      <td>8.55</td>\n",
       "      <td>5.54</td>\n",
       "      <td>5.0</td>\n",
       "    </tr>\n",
       "    <tr>\n",
       "      <td>530</td>\n",
       "      <td>5</td>\n",
       "      <td>8.17</td>\n",
       "      <td>8.28</td>\n",
       "      <td>4.10</td>\n",
       "      <td>4.3</td>\n",
       "    </tr>\n",
       "    <tr>\n",
       "      <td>595</td>\n",
       "      <td>1</td>\n",
       "      <td>6.54</td>\n",
       "      <td>6.02</td>\n",
       "      <td>0.20</td>\n",
       "      <td>0.2</td>\n",
       "    </tr>\n",
       "    <tr>\n",
       "      <td>634</td>\n",
       "      <td>5</td>\n",
       "      <td>6.19</td>\n",
       "      <td>6.33</td>\n",
       "      <td>4.41</td>\n",
       "      <td>5.0</td>\n",
       "    </tr>\n",
       "    <tr>\n",
       "      <td>660</td>\n",
       "      <td>5</td>\n",
       "      <td>6.03</td>\n",
       "      <td>6.07</td>\n",
       "      <td>4.35</td>\n",
       "      <td>4.4</td>\n",
       "    </tr>\n",
       "    <tr>\n",
       "      <td>684</td>\n",
       "      <td>8</td>\n",
       "      <td>6.23</td>\n",
       "      <td>6.27</td>\n",
       "      <td>7.19</td>\n",
       "      <td>7.4</td>\n",
       "    </tr>\n",
       "  </tbody>\n",
       "</table>\n",
       "</div>"
      ],
      "text/plain": [
       "         1     2     3     r1    r2\n",
       "painel                             \n",
       "branco  13  9.12  9.17  12.85  13.7\n",
       "full    13  9.42  9.40  12.50  12.8\n",
       "440      8  9.02  9.06   7.82   7.6\n",
       "470      7  8.55  8.57   6.78   6.2\n",
       "495      6  8.52  8.55   5.54   5.0\n",
       "530      5  8.17  8.28   4.10   4.3\n",
       "595      1  6.54  6.02   0.20   0.2\n",
       "634      5  6.19  6.33   4.41   5.0\n",
       "660      5  6.03  6.07   4.35   4.4\n",
       "684      8  6.23  6.27   7.19   7.4"
      ]
     },
     "execution_count": 10,
     "metadata": {},
     "output_type": "execute_result"
    }
   ],
   "source": [
    "validation"
   ]
  },
  {
   "cell_type": "code",
   "execution_count": 11,
   "metadata": {},
   "outputs": [],
   "source": [
    "original = {}\n",
    "with open(\"irradiancia2.json\") as jfile:\n",
    "    original = json.load(jfile)"
   ]
  },
  {
   "cell_type": "code",
   "execution_count": 12,
   "metadata": {},
   "outputs": [
    {
     "data": {
      "text/plain": [
       "{'440': 8,\n",
       " '470': 7,\n",
       " '495': 6,\n",
       " '530': 5,\n",
       " '595': 2,\n",
       " '634': 5,\n",
       " '660': 5,\n",
       " '684': 8,\n",
       " 'branco': 13,\n",
       " 'full': 13}"
      ]
     },
     "execution_count": 12,
     "metadata": {},
     "output_type": "execute_result"
    }
   ],
   "source": [
    "original"
   ]
  },
  {
   "cell_type": "code",
   "execution_count": 21,
   "metadata": {},
   "outputs": [],
   "source": [
    "validation[\"original\"] = pd.Series(original)\n",
    "validation[\"components\"] = pd.Series(neutral_spectrum_components)"
   ]
  },
  {
   "cell_type": "code",
   "execution_count": 22,
   "metadata": {},
   "outputs": [
    {
     "data": {
      "text/html": [
       "<div>\n",
       "<style scoped>\n",
       "    .dataframe tbody tr th:only-of-type {\n",
       "        vertical-align: middle;\n",
       "    }\n",
       "\n",
       "    .dataframe tbody tr th {\n",
       "        vertical-align: top;\n",
       "    }\n",
       "\n",
       "    .dataframe thead th {\n",
       "        text-align: right;\n",
       "    }\n",
       "</style>\n",
       "<table border=\"1\" class=\"dataframe\">\n",
       "  <thead>\n",
       "    <tr style=\"text-align: right;\">\n",
       "      <th></th>\n",
       "      <th>1</th>\n",
       "      <th>2</th>\n",
       "      <th>3</th>\n",
       "      <th>r1</th>\n",
       "      <th>r2</th>\n",
       "      <th>original</th>\n",
       "      <th>components</th>\n",
       "    </tr>\n",
       "    <tr>\n",
       "      <th>painel</th>\n",
       "      <th></th>\n",
       "      <th></th>\n",
       "      <th></th>\n",
       "      <th></th>\n",
       "      <th></th>\n",
       "      <th></th>\n",
       "      <th></th>\n",
       "    </tr>\n",
       "  </thead>\n",
       "  <tbody>\n",
       "    <tr>\n",
       "      <td>branco</td>\n",
       "      <td>13</td>\n",
       "      <td>9.12</td>\n",
       "      <td>9.17</td>\n",
       "      <td>12.85</td>\n",
       "      <td>13.7</td>\n",
       "      <td>13</td>\n",
       "      <td>0.999954</td>\n",
       "    </tr>\n",
       "    <tr>\n",
       "      <td>full</td>\n",
       "      <td>13</td>\n",
       "      <td>9.42</td>\n",
       "      <td>9.40</td>\n",
       "      <td>12.50</td>\n",
       "      <td>12.8</td>\n",
       "      <td>13</td>\n",
       "      <td>0.232915</td>\n",
       "    </tr>\n",
       "    <tr>\n",
       "      <td>440</td>\n",
       "      <td>8</td>\n",
       "      <td>9.02</td>\n",
       "      <td>9.06</td>\n",
       "      <td>7.82</td>\n",
       "      <td>7.6</td>\n",
       "      <td>8</td>\n",
       "      <td>0.234600</td>\n",
       "    </tr>\n",
       "    <tr>\n",
       "      <td>470</td>\n",
       "      <td>7</td>\n",
       "      <td>8.55</td>\n",
       "      <td>8.57</td>\n",
       "      <td>6.78</td>\n",
       "      <td>6.2</td>\n",
       "      <td>7</td>\n",
       "      <td>0.300996</td>\n",
       "    </tr>\n",
       "    <tr>\n",
       "      <td>495</td>\n",
       "      <td>6</td>\n",
       "      <td>8.52</td>\n",
       "      <td>8.55</td>\n",
       "      <td>5.54</td>\n",
       "      <td>5.0</td>\n",
       "      <td>6</td>\n",
       "      <td>0.375468</td>\n",
       "    </tr>\n",
       "    <tr>\n",
       "      <td>530</td>\n",
       "      <td>5</td>\n",
       "      <td>8.17</td>\n",
       "      <td>8.28</td>\n",
       "      <td>4.10</td>\n",
       "      <td>4.3</td>\n",
       "      <td>5</td>\n",
       "      <td>0.282117</td>\n",
       "    </tr>\n",
       "    <tr>\n",
       "      <td>595</td>\n",
       "      <td>1</td>\n",
       "      <td>6.54</td>\n",
       "      <td>6.02</td>\n",
       "      <td>0.20</td>\n",
       "      <td>0.2</td>\n",
       "      <td>2</td>\n",
       "      <td>0.176098</td>\n",
       "    </tr>\n",
       "    <tr>\n",
       "      <td>634</td>\n",
       "      <td>5</td>\n",
       "      <td>6.19</td>\n",
       "      <td>6.33</td>\n",
       "      <td>4.41</td>\n",
       "      <td>5.0</td>\n",
       "      <td>5</td>\n",
       "      <td>0.149044</td>\n",
       "    </tr>\n",
       "    <tr>\n",
       "      <td>660</td>\n",
       "      <td>5</td>\n",
       "      <td>6.03</td>\n",
       "      <td>6.07</td>\n",
       "      <td>4.35</td>\n",
       "      <td>4.4</td>\n",
       "      <td>5</td>\n",
       "      <td>0.214533</td>\n",
       "    </tr>\n",
       "    <tr>\n",
       "      <td>684</td>\n",
       "      <td>8</td>\n",
       "      <td>6.23</td>\n",
       "      <td>6.27</td>\n",
       "      <td>7.19</td>\n",
       "      <td>7.4</td>\n",
       "      <td>8</td>\n",
       "      <td>0.302464</td>\n",
       "    </tr>\n",
       "  </tbody>\n",
       "</table>\n",
       "</div>"
      ],
      "text/plain": [
       "         1     2     3     r1    r2  original  components\n",
       "painel                                                   \n",
       "branco  13  9.12  9.17  12.85  13.7        13    0.999954\n",
       "full    13  9.42  9.40  12.50  12.8        13    0.232915\n",
       "440      8  9.02  9.06   7.82   7.6         8    0.234600\n",
       "470      7  8.55  8.57   6.78   6.2         7    0.300996\n",
       "495      6  8.52  8.55   5.54   5.0         6    0.375468\n",
       "530      5  8.17  8.28   4.10   4.3         5    0.282117\n",
       "595      1  6.54  6.02   0.20   0.2         2    0.176098\n",
       "634      5  6.19  6.33   4.41   5.0         5    0.149044\n",
       "660      5  6.03  6.07   4.35   4.4         5    0.214533\n",
       "684      8  6.23  6.27   7.19   7.4         8    0.302464"
      ]
     },
     "execution_count": 22,
     "metadata": {},
     "output_type": "execute_result"
    }
   ],
   "source": [
    "validation"
   ]
  },
  {
   "cell_type": "code",
   "execution_count": 13,
   "metadata": {},
   "outputs": [],
   "source": [
    "def G(x,A,b,c,f,x0): return f*((2*A/(np.pi*2*b/(1+np.exp(c*(x-x0)))))/(1+4*((x-x0)/(2*b/(1+np.exp(c*(x-x0)))))**2))+(1-f)*(A/(2*b/(1+np.exp(c*(x-x0)))))*(4*np.log(2)/np.pi)*np.exp(-4*np.log(2)*((x-x0)/(2*b/(1+np.exp(c*(x-x0)))))**2)"
   ]
  },
  {
   "cell_type": "code",
   "execution_count": 14,
   "metadata": {},
   "outputs": [],
   "source": [
    "def H(x,A0,A1,b0,b1,c0,c1,f0,f1,x00,x01): return G(x,A0,b0,c0,f0,x00) + G(x,A1,b1,c1,f1,x01)"
   ]
  },
  {
   "cell_type": "code",
   "execution_count": 15,
   "metadata": {},
   "outputs": [],
   "source": [
    "sorted_parameters = sorted(original.items(),key=lambda x: x[0]) #Choosing ordering to make sure the parameters don't get scrambled later"
   ]
  },
  {
   "cell_type": "code",
   "execution_count": 25,
   "metadata": {},
   "outputs": [],
   "source": [
    "def LinearCombination(x,df,alpha,parameters):\n",
    "    \"\"\"\n",
    "    alpha: Array of values for the coefficients of the linear combination. Must be within the interval [0,1]\n",
    "    \"\"\"\n",
    "    #assert max(alpha)<=1 and min(alpha)>=0\n",
    "    s = 0\n",
    "    #for d,a in zip(parameters,alpha):\n",
    "    for i,row in df.iterrows():\n",
    "        painel = i\n",
    "        a = row[alpha]\n",
    "        d = parameters[painel]\n",
    "        if painel==\"branco\" or painel==\"full\":\n",
    "            s+=a*H(x,*d)\n",
    "        else:\n",
    "            s+=a*G(x,*d)\n",
    "    return s\n",
    "\n",
    "    "
   ]
  },
  {
   "cell_type": "code",
   "execution_count": 26,
   "metadata": {},
   "outputs": [],
   "source": [
    "x = np.linspace(0,1000,100)"
   ]
  },
  {
   "cell_type": "code",
   "execution_count": 29,
   "metadata": {},
   "outputs": [
    {
     "data": {
      "text/plain": [
       "array([7.45757102e-05, 7.73188977e-05, 8.02189799e-05, 8.32886589e-05,\n",
       "       8.65420191e-05, 8.99947204e-05, 9.36642258e-05, 9.75700688e-05,\n",
       "       1.01734171e-04, 1.06181222e-04, 1.10939127e-04, 1.16039559e-04,\n",
       "       1.21518616e-04, 1.27417629e-04, 1.33784158e-04, 1.40673219e-04,\n",
       "       1.48148825e-04, 1.56285927e-04, 1.65172888e-04, 1.74914674e-04,\n",
       "       1.85637003e-04, 1.97491838e-04, 2.10664729e-04, 2.25384789e-04,\n",
       "       2.41938484e-04, 2.60689006e-04, 2.82104033e-04, 3.06796335e-04,\n",
       "       3.35584494e-04, 3.69585939e-04, 4.10363250e-04, 4.60160887e-04,\n",
       "       5.22300338e-04, 6.01862833e-04, 7.06915405e-04, 8.50812695e-04,\n",
       "       1.05675121e-03, 1.36738008e-03, 1.86682902e-03, 2.73711097e-03,\n",
       "       4.42711536e-03, 8.30650658e-03, 2.12556000e-02, 9.33263477e-02,\n",
       "       1.27671861e-01, 1.15529536e-01, 1.08019059e-01, 8.71552853e-02,\n",
       "       9.56011994e-02, 1.08872679e-01, 9.18113586e-02, 9.98581734e-02,\n",
       "       1.05053382e-01, 9.98922600e-02, 9.75346937e-02, 9.75842104e-02,\n",
       "       9.73582247e-02, 9.61579794e-02, 9.71726787e-02, 1.05849189e-01,\n",
       "       9.05490075e-02, 8.50645056e-02, 9.22827932e-02, 1.09562541e-01,\n",
       "       8.67245720e-02, 1.01032563e-01, 1.05122167e-01, 1.01992903e-01,\n",
       "       1.12535802e-01, 4.91123752e-02, 2.17252452e-02, 1.51430377e-02,\n",
       "       1.09318799e-02, 7.96743688e-03, 5.82023186e-03, 4.25647301e-03,\n",
       "       3.12053178e-03, 2.29937409e-03, 1.70866815e-03, 1.28539352e-03,\n",
       "       9.82809069e-04, 7.66597534e-04, 6.11818925e-04, 5.00516645e-04,\n",
       "       4.19867797e-04, 3.60780010e-04, 3.16844708e-04, 2.83567508e-04,\n",
       "       2.57809254e-04, 2.37384185e-04, 2.20773572e-04, 2.06923148e-04,\n",
       "       1.95100733e-04, 1.84796730e-04, 1.75654938e-04, 1.67424650e-04,\n",
       "       1.59927643e-04, 1.53035500e-04, 1.46654086e-04, 1.40712957e-04])"
      ]
     },
     "execution_count": 29,
     "metadata": {},
     "output_type": "execute_result"
    }
   ],
   "source": [
    "original = LinearCombination(x,validation,\"components\",parameters)\n",
    "original = LinearCombination(x,validation,\"components\",parameters)\n",
    "original = LinearCombination(x,validation,\"components\",parameters)\n"
   ]
  },
  {
   "cell_type": "code",
   "execution_count": null,
   "metadata": {},
   "outputs": [],
   "source": []
  }
 ],
 "metadata": {
  "kernelspec": {
   "display_name": "Python 3",
   "language": "python",
   "name": "python3"
  },
  "language_info": {
   "codemirror_mode": {
    "name": "ipython",
    "version": 3
   },
   "file_extension": ".py",
   "mimetype": "text/x-python",
   "name": "python",
   "nbconvert_exporter": "python",
   "pygments_lexer": "ipython3",
   "version": "3.6.9"
  }
 },
 "nbformat": 4,
 "nbformat_minor": 4
}
