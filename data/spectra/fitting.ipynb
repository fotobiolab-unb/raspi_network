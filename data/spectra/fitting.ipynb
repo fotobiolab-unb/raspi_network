{
 "cells": [
  {
   "cell_type": "code",
   "execution_count": 1,
   "metadata": {},
   "outputs": [],
   "source": [
    "import pandas as pd\n",
    "import numpy as np"
   ]
  },
  {
   "cell_type": "code",
   "execution_count": 2,
   "metadata": {},
   "outputs": [],
   "source": [
    "spectra = pd.read_csv(\"spectra.dat\", sep=\"\\t\")"
   ]
  },
  {
   "cell_type": "code",
   "execution_count": 3,
   "metadata": {},
   "outputs": [
    {
     "data": {
      "text/html": [
       "<div>\n",
       "<style scoped>\n",
       "    .dataframe tbody tr th:only-of-type {\n",
       "        vertical-align: middle;\n",
       "    }\n",
       "\n",
       "    .dataframe tbody tr th {\n",
       "        vertical-align: top;\n",
       "    }\n",
       "\n",
       "    .dataframe thead th {\n",
       "        text-align: right;\n",
       "    }\n",
       "</style>\n",
       "<table border=\"1\" class=\"dataframe\">\n",
       "  <thead>\n",
       "    <tr style=\"text-align: right;\">\n",
       "      <th></th>\n",
       "      <th>Lambda</th>\n",
       "      <th>440</th>\n",
       "      <th>470</th>\n",
       "      <th>495</th>\n",
       "      <th>530</th>\n",
       "      <th>595</th>\n",
       "      <th>634</th>\n",
       "      <th>660</th>\n",
       "      <th>684</th>\n",
       "      <th>branco</th>\n",
       "      <th>full</th>\n",
       "    </tr>\n",
       "  </thead>\n",
       "  <tbody>\n",
       "    <tr>\n",
       "      <td>1</td>\n",
       "      <td>194.152420</td>\n",
       "      <td>0.011534</td>\n",
       "      <td>0.007311</td>\n",
       "      <td>0.008760</td>\n",
       "      <td>0.009653</td>\n",
       "      <td>0.010221</td>\n",
       "      <td>0.006451</td>\n",
       "      <td>0.005752</td>\n",
       "      <td>0.003734</td>\n",
       "      <td>0.018989</td>\n",
       "      <td>0.010652</td>\n",
       "    </tr>\n",
       "    <tr>\n",
       "      <td>2</td>\n",
       "      <td>194.354370</td>\n",
       "      <td>-0.000009</td>\n",
       "      <td>0.000591</td>\n",
       "      <td>0.000111</td>\n",
       "      <td>0.000858</td>\n",
       "      <td>0.001224</td>\n",
       "      <td>0.001125</td>\n",
       "      <td>0.001836</td>\n",
       "      <td>0.001697</td>\n",
       "      <td>0.009667</td>\n",
       "      <td>0.005833</td>\n",
       "    </tr>\n",
       "    <tr>\n",
       "      <td>3</td>\n",
       "      <td>194.556335</td>\n",
       "      <td>0.000103</td>\n",
       "      <td>0.001438</td>\n",
       "      <td>0.002259</td>\n",
       "      <td>0.001650</td>\n",
       "      <td>0.000233</td>\n",
       "      <td>-0.000425</td>\n",
       "      <td>-0.000221</td>\n",
       "      <td>0.003679</td>\n",
       "      <td>0.009298</td>\n",
       "      <td>0.005016</td>\n",
       "    </tr>\n",
       "    <tr>\n",
       "      <td>4</td>\n",
       "      <td>194.758316</td>\n",
       "      <td>-0.001900</td>\n",
       "      <td>0.000816</td>\n",
       "      <td>0.001665</td>\n",
       "      <td>0.000688</td>\n",
       "      <td>0.000460</td>\n",
       "      <td>0.001012</td>\n",
       "      <td>-0.002362</td>\n",
       "      <td>0.003790</td>\n",
       "      <td>0.009440</td>\n",
       "      <td>0.005072</td>\n",
       "    </tr>\n",
       "    <tr>\n",
       "      <td>5</td>\n",
       "      <td>194.960327</td>\n",
       "      <td>0.003095</td>\n",
       "      <td>0.001776</td>\n",
       "      <td>0.006867</td>\n",
       "      <td>0.005864</td>\n",
       "      <td>0.004506</td>\n",
       "      <td>0.003886</td>\n",
       "      <td>0.005329</td>\n",
       "      <td>0.005074</td>\n",
       "      <td>0.015436</td>\n",
       "      <td>0.008736</td>\n",
       "    </tr>\n",
       "    <tr>\n",
       "      <td>...</td>\n",
       "      <td>...</td>\n",
       "      <td>...</td>\n",
       "      <td>...</td>\n",
       "      <td>...</td>\n",
       "      <td>...</td>\n",
       "      <td>...</td>\n",
       "      <td>...</td>\n",
       "      <td>...</td>\n",
       "      <td>...</td>\n",
       "      <td>...</td>\n",
       "      <td>...</td>\n",
       "    </tr>\n",
       "    <tr>\n",
       "      <td>3644</td>\n",
       "      <td>1013.778564</td>\n",
       "      <td>-0.012484</td>\n",
       "      <td>-0.014289</td>\n",
       "      <td>-0.014249</td>\n",
       "      <td>-0.016394</td>\n",
       "      <td>-0.013914</td>\n",
       "      <td>-0.011274</td>\n",
       "      <td>-0.008560</td>\n",
       "      <td>-0.003437</td>\n",
       "      <td>-0.020287</td>\n",
       "      <td>-0.012906</td>\n",
       "    </tr>\n",
       "    <tr>\n",
       "      <td>3645</td>\n",
       "      <td>1014.019653</td>\n",
       "      <td>-0.014234</td>\n",
       "      <td>-0.015080</td>\n",
       "      <td>-0.015267</td>\n",
       "      <td>-0.017638</td>\n",
       "      <td>-0.017082</td>\n",
       "      <td>-0.012570</td>\n",
       "      <td>-0.009095</td>\n",
       "      <td>-0.003604</td>\n",
       "      <td>-0.020741</td>\n",
       "      <td>-0.014738</td>\n",
       "    </tr>\n",
       "    <tr>\n",
       "      <td>3646</td>\n",
       "      <td>1014.260681</td>\n",
       "      <td>-0.011892</td>\n",
       "      <td>-0.015108</td>\n",
       "      <td>-0.013768</td>\n",
       "      <td>-0.015404</td>\n",
       "      <td>-0.015696</td>\n",
       "      <td>-0.010964</td>\n",
       "      <td>-0.008672</td>\n",
       "      <td>-0.003799</td>\n",
       "      <td>-0.021708</td>\n",
       "      <td>-0.012822</td>\n",
       "    </tr>\n",
       "    <tr>\n",
       "      <td>3647</td>\n",
       "      <td>1014.501709</td>\n",
       "      <td>-0.015900</td>\n",
       "      <td>-0.014826</td>\n",
       "      <td>-0.016030</td>\n",
       "      <td>-0.016705</td>\n",
       "      <td>-0.018893</td>\n",
       "      <td>-0.010598</td>\n",
       "      <td>-0.011011</td>\n",
       "      <td>-0.002907</td>\n",
       "      <td>-0.021424</td>\n",
       "      <td>-0.016063</td>\n",
       "    </tr>\n",
       "    <tr>\n",
       "      <td>3648</td>\n",
       "      <td>1014.742798</td>\n",
       "      <td>-0.011864</td>\n",
       "      <td>-0.015108</td>\n",
       "      <td>-0.012779</td>\n",
       "      <td>-0.014951</td>\n",
       "      <td>-0.015243</td>\n",
       "      <td>-0.011415</td>\n",
       "      <td>-0.008644</td>\n",
       "      <td>-0.001539</td>\n",
       "      <td>-0.021338</td>\n",
       "      <td>-0.013583</td>\n",
       "    </tr>\n",
       "  </tbody>\n",
       "</table>\n",
       "<p>3648 rows × 11 columns</p>\n",
       "</div>"
      ],
      "text/plain": [
       "           Lambda       440       470       495       530       595       634  \\\n",
       "1      194.152420  0.011534  0.007311  0.008760  0.009653  0.010221  0.006451   \n",
       "2      194.354370 -0.000009  0.000591  0.000111  0.000858  0.001224  0.001125   \n",
       "3      194.556335  0.000103  0.001438  0.002259  0.001650  0.000233 -0.000425   \n",
       "4      194.758316 -0.001900  0.000816  0.001665  0.000688  0.000460  0.001012   \n",
       "5      194.960327  0.003095  0.001776  0.006867  0.005864  0.004506  0.003886   \n",
       "...           ...       ...       ...       ...       ...       ...       ...   \n",
       "3644  1013.778564 -0.012484 -0.014289 -0.014249 -0.016394 -0.013914 -0.011274   \n",
       "3645  1014.019653 -0.014234 -0.015080 -0.015267 -0.017638 -0.017082 -0.012570   \n",
       "3646  1014.260681 -0.011892 -0.015108 -0.013768 -0.015404 -0.015696 -0.010964   \n",
       "3647  1014.501709 -0.015900 -0.014826 -0.016030 -0.016705 -0.018893 -0.010598   \n",
       "3648  1014.742798 -0.011864 -0.015108 -0.012779 -0.014951 -0.015243 -0.011415   \n",
       "\n",
       "           660       684    branco      full  \n",
       "1     0.005752  0.003734  0.018989  0.010652  \n",
       "2     0.001836  0.001697  0.009667  0.005833  \n",
       "3    -0.000221  0.003679  0.009298  0.005016  \n",
       "4    -0.002362  0.003790  0.009440  0.005072  \n",
       "5     0.005329  0.005074  0.015436  0.008736  \n",
       "...        ...       ...       ...       ...  \n",
       "3644 -0.008560 -0.003437 -0.020287 -0.012906  \n",
       "3645 -0.009095 -0.003604 -0.020741 -0.014738  \n",
       "3646 -0.008672 -0.003799 -0.021708 -0.012822  \n",
       "3647 -0.011011 -0.002907 -0.021424 -0.016063  \n",
       "3648 -0.008644 -0.001539 -0.021338 -0.013583  \n",
       "\n",
       "[3648 rows x 11 columns]"
      ]
     },
     "execution_count": 3,
     "metadata": {},
     "output_type": "execute_result"
    }
   ],
   "source": [
    "spectra_data = spectra[1:]\n",
    "spectra_data = spectra_data.astype(float)\n",
    "spectra_data"
   ]
  },
  {
   "cell_type": "code",
   "execution_count": null,
   "metadata": {},
   "outputs": [],
   "source": []
  },
  {
   "cell_type": "code",
   "execution_count": 4,
   "metadata": {},
   "outputs": [],
   "source": [
    "irrad = pd.read_csv(\"irradiancia.dat\", sep=\"\\t\")"
   ]
  },
  {
   "cell_type": "code",
   "execution_count": 5,
   "metadata": {},
   "outputs": [
    {
     "data": {
      "text/plain": [
       "branco1       25\n",
       "branco2     25.3\n",
       "440         15.8\n",
       "470         12.5\n",
       "495         10.1\n",
       "530         7.04\n",
       "595         3.26\n",
       "634         8.63\n",
       "660        10.75\n",
       "684        13.35\n",
       "full       14.81\n",
       "Name: 4, dtype: object"
      ]
     },
     "execution_count": 5,
     "metadata": {},
     "output_type": "execute_result"
    }
   ],
   "source": [
    "irrad.iloc[4,1::2]"
   ]
  },
  {
   "cell_type": "markdown",
   "metadata": {},
   "source": [
    "Calculating Integrals and Normalizing\n",
    "====================================="
   ]
  },
  {
   "cell_type": "code",
   "execution_count": 6,
   "metadata": {},
   "outputs": [],
   "source": [
    "y_labels = spectra_data.columns[1:]\n",
    "x_label = \"Lambda\""
   ]
  },
  {
   "cell_type": "code",
   "execution_count": 7,
   "metadata": {},
   "outputs": [],
   "source": [
    "A_star = {} #Integrals for the spectra in arbitrary units"
   ]
  },
  {
   "cell_type": "code",
   "execution_count": 8,
   "metadata": {},
   "outputs": [],
   "source": [
    "for label in y_labels:\n",
    "    A_star[label] = np.trapz(spectra_data[label], x=spectra_data[x_label])"
   ]
  },
  {
   "cell_type": "code",
   "execution_count": 9,
   "metadata": {},
   "outputs": [
    {
     "data": {
      "text/plain": [
       "440        13.289713\n",
       "470        18.925137\n",
       "495        18.771848\n",
       "530        30.994957\n",
       "595        16.052588\n",
       "634        18.381114\n",
       "660        18.729419\n",
       "684        27.182472\n",
       "branco    103.859368\n",
       "full       88.305570\n",
       "dtype: float64"
      ]
     },
     "execution_count": 9,
     "metadata": {},
     "output_type": "execute_result"
    }
   ],
   "source": [
    "pd.Series(A_star)"
   ]
  },
  {
   "cell_type": "code",
   "execution_count": 10,
   "metadata": {},
   "outputs": [],
   "source": [
    "#Getting Actual areas"
   ]
  },
  {
   "cell_type": "code",
   "execution_count": 11,
   "metadata": {},
   "outputs": [],
   "source": [
    "A = irrad.iloc[4,1::2].astype(float)"
   ]
  },
  {
   "cell_type": "code",
   "execution_count": 12,
   "metadata": {},
   "outputs": [],
   "source": [
    "#Making branco=avg(branco1, branco2)"
   ]
  },
  {
   "cell_type": "code",
   "execution_count": 13,
   "metadata": {},
   "outputs": [],
   "source": [
    "A[\"branco\"] = 0.5*(A[\"branco1\"]+A[\"branco2\"])"
   ]
  },
  {
   "cell_type": "code",
   "execution_count": 14,
   "metadata": {},
   "outputs": [
    {
     "data": {
      "text/plain": [
       "440       15.80\n",
       "470       12.50\n",
       "495       10.10\n",
       "530        7.04\n",
       "595        3.26\n",
       "634        8.63\n",
       "660       10.75\n",
       "684       13.35\n",
       "full      14.81\n",
       "branco    25.15\n",
       "Name: 4, dtype: float64"
      ]
     },
     "execution_count": 14,
     "metadata": {},
     "output_type": "execute_result"
    }
   ],
   "source": [
    "A = A[2:] #Removing branco1 and branco2\n",
    "A"
   ]
  },
  {
   "cell_type": "code",
   "execution_count": 15,
   "metadata": {},
   "outputs": [],
   "source": [
    "normalized_data = (spectra_data.iloc[:,1:]/A_star)*A"
   ]
  },
  {
   "cell_type": "code",
   "execution_count": 16,
   "metadata": {},
   "outputs": [],
   "source": [
    "normalized_data[x_label] = spectra_data[x_label]"
   ]
  },
  {
   "cell_type": "code",
   "execution_count": 17,
   "metadata": {},
   "outputs": [
    {
     "data": {
      "text/html": [
       "<div>\n",
       "<style scoped>\n",
       "    .dataframe tbody tr th:only-of-type {\n",
       "        vertical-align: middle;\n",
       "    }\n",
       "\n",
       "    .dataframe tbody tr th {\n",
       "        vertical-align: top;\n",
       "    }\n",
       "\n",
       "    .dataframe thead th {\n",
       "        text-align: right;\n",
       "    }\n",
       "</style>\n",
       "<table border=\"1\" class=\"dataframe\">\n",
       "  <thead>\n",
       "    <tr style=\"text-align: right;\">\n",
       "      <th></th>\n",
       "      <th>440</th>\n",
       "      <th>470</th>\n",
       "      <th>495</th>\n",
       "      <th>530</th>\n",
       "      <th>595</th>\n",
       "      <th>634</th>\n",
       "      <th>660</th>\n",
       "      <th>684</th>\n",
       "      <th>branco</th>\n",
       "      <th>full</th>\n",
       "      <th>Lambda</th>\n",
       "    </tr>\n",
       "  </thead>\n",
       "  <tbody>\n",
       "    <tr>\n",
       "      <td>1</td>\n",
       "      <td>0.013713</td>\n",
       "      <td>0.004829</td>\n",
       "      <td>0.004713</td>\n",
       "      <td>0.002193</td>\n",
       "      <td>0.002076</td>\n",
       "      <td>0.003029</td>\n",
       "      <td>0.003301</td>\n",
       "      <td>0.001834</td>\n",
       "      <td>0.004598</td>\n",
       "      <td>0.001786</td>\n",
       "      <td>194.152420</td>\n",
       "    </tr>\n",
       "    <tr>\n",
       "      <td>2</td>\n",
       "      <td>-0.000011</td>\n",
       "      <td>0.000390</td>\n",
       "      <td>0.000060</td>\n",
       "      <td>0.000195</td>\n",
       "      <td>0.000249</td>\n",
       "      <td>0.000528</td>\n",
       "      <td>0.001054</td>\n",
       "      <td>0.000834</td>\n",
       "      <td>0.002341</td>\n",
       "      <td>0.000978</td>\n",
       "      <td>194.354370</td>\n",
       "    </tr>\n",
       "    <tr>\n",
       "      <td>3</td>\n",
       "      <td>0.000123</td>\n",
       "      <td>0.000950</td>\n",
       "      <td>0.001215</td>\n",
       "      <td>0.000375</td>\n",
       "      <td>0.000047</td>\n",
       "      <td>-0.000200</td>\n",
       "      <td>-0.000127</td>\n",
       "      <td>0.001807</td>\n",
       "      <td>0.002252</td>\n",
       "      <td>0.000841</td>\n",
       "      <td>194.556335</td>\n",
       "    </tr>\n",
       "    <tr>\n",
       "      <td>4</td>\n",
       "      <td>-0.002259</td>\n",
       "      <td>0.000539</td>\n",
       "      <td>0.000896</td>\n",
       "      <td>0.000156</td>\n",
       "      <td>0.000093</td>\n",
       "      <td>0.000475</td>\n",
       "      <td>-0.001356</td>\n",
       "      <td>0.001861</td>\n",
       "      <td>0.002286</td>\n",
       "      <td>0.000851</td>\n",
       "      <td>194.758316</td>\n",
       "    </tr>\n",
       "    <tr>\n",
       "      <td>5</td>\n",
       "      <td>0.003680</td>\n",
       "      <td>0.001173</td>\n",
       "      <td>0.003694</td>\n",
       "      <td>0.001332</td>\n",
       "      <td>0.000915</td>\n",
       "      <td>0.001825</td>\n",
       "      <td>0.003059</td>\n",
       "      <td>0.002492</td>\n",
       "      <td>0.003738</td>\n",
       "      <td>0.001465</td>\n",
       "      <td>194.960327</td>\n",
       "    </tr>\n",
       "    <tr>\n",
       "      <td>...</td>\n",
       "      <td>...</td>\n",
       "      <td>...</td>\n",
       "      <td>...</td>\n",
       "      <td>...</td>\n",
       "      <td>...</td>\n",
       "      <td>...</td>\n",
       "      <td>...</td>\n",
       "      <td>...</td>\n",
       "      <td>...</td>\n",
       "      <td>...</td>\n",
       "      <td>...</td>\n",
       "    </tr>\n",
       "    <tr>\n",
       "      <td>3644</td>\n",
       "      <td>-0.014843</td>\n",
       "      <td>-0.009438</td>\n",
       "      <td>-0.007666</td>\n",
       "      <td>-0.003724</td>\n",
       "      <td>-0.002826</td>\n",
       "      <td>-0.005293</td>\n",
       "      <td>-0.004913</td>\n",
       "      <td>-0.001688</td>\n",
       "      <td>-0.004913</td>\n",
       "      <td>-0.002165</td>\n",
       "      <td>1013.778564</td>\n",
       "    </tr>\n",
       "    <tr>\n",
       "      <td>3645</td>\n",
       "      <td>-0.016923</td>\n",
       "      <td>-0.009960</td>\n",
       "      <td>-0.008214</td>\n",
       "      <td>-0.004006</td>\n",
       "      <td>-0.003469</td>\n",
       "      <td>-0.005902</td>\n",
       "      <td>-0.005220</td>\n",
       "      <td>-0.001770</td>\n",
       "      <td>-0.005023</td>\n",
       "      <td>-0.002472</td>\n",
       "      <td>1014.019653</td>\n",
       "    </tr>\n",
       "    <tr>\n",
       "      <td>3646</td>\n",
       "      <td>-0.014138</td>\n",
       "      <td>-0.009979</td>\n",
       "      <td>-0.007408</td>\n",
       "      <td>-0.003499</td>\n",
       "      <td>-0.003188</td>\n",
       "      <td>-0.005148</td>\n",
       "      <td>-0.004978</td>\n",
       "      <td>-0.001866</td>\n",
       "      <td>-0.005257</td>\n",
       "      <td>-0.002150</td>\n",
       "      <td>1014.260681</td>\n",
       "    </tr>\n",
       "    <tr>\n",
       "      <td>3647</td>\n",
       "      <td>-0.018903</td>\n",
       "      <td>-0.009792</td>\n",
       "      <td>-0.008625</td>\n",
       "      <td>-0.003794</td>\n",
       "      <td>-0.003837</td>\n",
       "      <td>-0.004976</td>\n",
       "      <td>-0.006320</td>\n",
       "      <td>-0.001427</td>\n",
       "      <td>-0.005188</td>\n",
       "      <td>-0.002694</td>\n",
       "      <td>1014.501709</td>\n",
       "    </tr>\n",
       "    <tr>\n",
       "      <td>3648</td>\n",
       "      <td>-0.014104</td>\n",
       "      <td>-0.009979</td>\n",
       "      <td>-0.006876</td>\n",
       "      <td>-0.003396</td>\n",
       "      <td>-0.003096</td>\n",
       "      <td>-0.005359</td>\n",
       "      <td>-0.004961</td>\n",
       "      <td>-0.000756</td>\n",
       "      <td>-0.005167</td>\n",
       "      <td>-0.002278</td>\n",
       "      <td>1014.742798</td>\n",
       "    </tr>\n",
       "  </tbody>\n",
       "</table>\n",
       "<p>3648 rows × 11 columns</p>\n",
       "</div>"
      ],
      "text/plain": [
       "           440       470       495       530       595       634       660  \\\n",
       "1     0.013713  0.004829  0.004713  0.002193  0.002076  0.003029  0.003301   \n",
       "2    -0.000011  0.000390  0.000060  0.000195  0.000249  0.000528  0.001054   \n",
       "3     0.000123  0.000950  0.001215  0.000375  0.000047 -0.000200 -0.000127   \n",
       "4    -0.002259  0.000539  0.000896  0.000156  0.000093  0.000475 -0.001356   \n",
       "5     0.003680  0.001173  0.003694  0.001332  0.000915  0.001825  0.003059   \n",
       "...        ...       ...       ...       ...       ...       ...       ...   \n",
       "3644 -0.014843 -0.009438 -0.007666 -0.003724 -0.002826 -0.005293 -0.004913   \n",
       "3645 -0.016923 -0.009960 -0.008214 -0.004006 -0.003469 -0.005902 -0.005220   \n",
       "3646 -0.014138 -0.009979 -0.007408 -0.003499 -0.003188 -0.005148 -0.004978   \n",
       "3647 -0.018903 -0.009792 -0.008625 -0.003794 -0.003837 -0.004976 -0.006320   \n",
       "3648 -0.014104 -0.009979 -0.006876 -0.003396 -0.003096 -0.005359 -0.004961   \n",
       "\n",
       "           684    branco      full       Lambda  \n",
       "1     0.001834  0.004598  0.001786   194.152420  \n",
       "2     0.000834  0.002341  0.000978   194.354370  \n",
       "3     0.001807  0.002252  0.000841   194.556335  \n",
       "4     0.001861  0.002286  0.000851   194.758316  \n",
       "5     0.002492  0.003738  0.001465   194.960327  \n",
       "...        ...       ...       ...          ...  \n",
       "3644 -0.001688 -0.004913 -0.002165  1013.778564  \n",
       "3645 -0.001770 -0.005023 -0.002472  1014.019653  \n",
       "3646 -0.001866 -0.005257 -0.002150  1014.260681  \n",
       "3647 -0.001427 -0.005188 -0.002694  1014.501709  \n",
       "3648 -0.000756 -0.005167 -0.002278  1014.742798  \n",
       "\n",
       "[3648 rows x 11 columns]"
      ]
     },
     "execution_count": 17,
     "metadata": {},
     "output_type": "execute_result"
    }
   ],
   "source": [
    "normalized_data"
   ]
  },
  {
   "cell_type": "code",
   "execution_count": 18,
   "metadata": {},
   "outputs": [],
   "source": [
    "#Checking results"
   ]
  },
  {
   "cell_type": "code",
   "execution_count": 19,
   "metadata": {},
   "outputs": [],
   "source": [
    "sanity_check = {}\n",
    "for label in y_labels:\n",
    "    sanity_check[label] = np.trapz(normalized_data[label], x=normalized_data[x_label])"
   ]
  },
  {
   "cell_type": "code",
   "execution_count": 20,
   "metadata": {},
   "outputs": [
    {
     "data": {
      "text/html": [
       "<div>\n",
       "<style scoped>\n",
       "    .dataframe tbody tr th:only-of-type {\n",
       "        vertical-align: middle;\n",
       "    }\n",
       "\n",
       "    .dataframe tbody tr th {\n",
       "        vertical-align: top;\n",
       "    }\n",
       "\n",
       "    .dataframe thead th {\n",
       "        text-align: right;\n",
       "    }\n",
       "</style>\n",
       "<table border=\"1\" class=\"dataframe\">\n",
       "  <thead>\n",
       "    <tr style=\"text-align: right;\">\n",
       "      <th></th>\n",
       "      <th>0</th>\n",
       "      <th>4</th>\n",
       "    </tr>\n",
       "  </thead>\n",
       "  <tbody>\n",
       "    <tr>\n",
       "      <td>440</td>\n",
       "      <td>15.80</td>\n",
       "      <td>15.80</td>\n",
       "    </tr>\n",
       "    <tr>\n",
       "      <td>470</td>\n",
       "      <td>12.50</td>\n",
       "      <td>12.50</td>\n",
       "    </tr>\n",
       "    <tr>\n",
       "      <td>495</td>\n",
       "      <td>10.10</td>\n",
       "      <td>10.10</td>\n",
       "    </tr>\n",
       "    <tr>\n",
       "      <td>530</td>\n",
       "      <td>7.04</td>\n",
       "      <td>7.04</td>\n",
       "    </tr>\n",
       "    <tr>\n",
       "      <td>595</td>\n",
       "      <td>3.26</td>\n",
       "      <td>3.26</td>\n",
       "    </tr>\n",
       "    <tr>\n",
       "      <td>634</td>\n",
       "      <td>8.63</td>\n",
       "      <td>8.63</td>\n",
       "    </tr>\n",
       "    <tr>\n",
       "      <td>660</td>\n",
       "      <td>10.75</td>\n",
       "      <td>10.75</td>\n",
       "    </tr>\n",
       "    <tr>\n",
       "      <td>684</td>\n",
       "      <td>13.35</td>\n",
       "      <td>13.35</td>\n",
       "    </tr>\n",
       "    <tr>\n",
       "      <td>branco</td>\n",
       "      <td>25.15</td>\n",
       "      <td>25.15</td>\n",
       "    </tr>\n",
       "    <tr>\n",
       "      <td>full</td>\n",
       "      <td>14.81</td>\n",
       "      <td>14.81</td>\n",
       "    </tr>\n",
       "  </tbody>\n",
       "</table>\n",
       "</div>"
      ],
      "text/plain": [
       "            0      4\n",
       "440     15.80  15.80\n",
       "470     12.50  12.50\n",
       "495     10.10  10.10\n",
       "530      7.04   7.04\n",
       "595      3.26   3.26\n",
       "634      8.63   8.63\n",
       "660     10.75  10.75\n",
       "684     13.35  13.35\n",
       "branco  25.15  25.15\n",
       "full    14.81  14.81"
      ]
     },
     "execution_count": 20,
     "metadata": {},
     "output_type": "execute_result"
    }
   ],
   "source": [
    "pd.concat([pd.Series(sanity_check), A], axis=1, sort=True)"
   ]
  },
  {
   "cell_type": "code",
   "execution_count": 21,
   "metadata": {},
   "outputs": [],
   "source": [
    "import matplotlib.pyplot as plt\n",
    "plt.rcParams['figure.figsize'] = [20, 5]"
   ]
  },
  {
   "cell_type": "code",
   "execution_count": 22,
   "metadata": {},
   "outputs": [],
   "source": [
    "import plotly.express as px"
   ]
  },
  {
   "cell_type": "code",
   "execution_count": 23,
   "metadata": {},
   "outputs": [
    {
     "data": {
      "text/plain": [
       "[<matplotlib.lines.Line2D at 0x7fca1efb9dd8>,\n",
       " <matplotlib.lines.Line2D at 0x7fca1efb9ef0>,\n",
       " <matplotlib.lines.Line2D at 0x7fca1efc9080>,\n",
       " <matplotlib.lines.Line2D at 0x7fca1efc91d0>,\n",
       " <matplotlib.lines.Line2D at 0x7fca1efc9320>,\n",
       " <matplotlib.lines.Line2D at 0x7fca1efc9470>,\n",
       " <matplotlib.lines.Line2D at 0x7fca1efc95c0>,\n",
       " <matplotlib.lines.Line2D at 0x7fca1efc9710>,\n",
       " <matplotlib.lines.Line2D at 0x7fca1efc9860>,\n",
       " <matplotlib.lines.Line2D at 0x7fca1efc99b0>]"
      ]
     },
     "execution_count": 23,
     "metadata": {},
     "output_type": "execute_result"
    },
    {
     "data": {
      "image/png": "[encoded data removed]",
      "text/plain": [
       "<Figure size 432x288 with 1 Axes>"
      ]
     },
     "metadata": {
      "needs_background": "light"
     },
     "output_type": "display_data"
    }
   ],
   "source": [
    "plt.plot(normalized_data[x_label],normalized_data[y_labels])"
   ]
  },
  {
   "cell_type": "markdown",
   "metadata": {},
   "source": [
    "Fitting Data to Theoretical Curve\n",
    "================================="
   ]
  },
  {
   "cell_type": "code",
   "execution_count": 24,
   "metadata": {},
   "outputs": [
    {
     "data": {
      "text/plain": [
       "'\\ny(x)=f*((2*A/(pi*2*b/(1+exp(c*(x-x0)))))/(1+4*((x-x0)/(2*b/(1+exp(c*(x-x0)))))^2))+(1-f)*(A/(2*b/(1+exp(c*(x-x0)))))*(4*ln(2)/pi)*exp(-4*ln(2)*((x-x0)/(2*b/(1+exp(c*(x-x0)))))^2)\\n\\nparametros A,b,c,f,x0\\n'"
      ]
     },
     "execution_count": 24,
     "metadata": {},
     "output_type": "execute_result"
    }
   ],
   "source": [
    "\"\"\"\n",
    "y(x)=f*((2*A/(pi*2*b/(1+exp(c*(x-x0)))))/(1+4*((x-x0)/(2*b/(1+exp(c*(x-x0)))))^2))+(1-f)*(A/(2*b/(1+exp(c*(x-x0)))))*(4*ln(2)/pi)*exp(-4*ln(2)*((x-x0)/(2*b/(1+exp(c*(x-x0)))))^2)\n",
    "\n",
    "parametros A,b,c,f,x0\n",
    "\"\"\""
   ]
  },
  {
   "cell_type": "code",
   "execution_count": 25,
   "metadata": {},
   "outputs": [],
   "source": [
    "def G(x,A,b,c,f,x0): return f*((2*A/(np.pi*2*b/(1+np.exp(c*(x-x0)))))/(1+4*((x-x0)/(2*b/(1+np.exp(c*(x-x0)))))**2))+(1-f)*(A/(2*b/(1+np.exp(c*(x-x0)))))*(4*np.log(2)/np.pi)*np.exp(-4*np.log(2)*((x-x0)/(2*b/(1+np.exp(c*(x-x0)))))**2)"
   ]
  },
  {
   "cell_type": "code",
   "execution_count": 26,
   "metadata": {},
   "outputs": [],
   "source": [
    "def H(x,A0,A1,b0,b1,c0,c1,f0,f1,x00,x01): return G(x,A0,b0,c0,f0,x00) + G(x,A1,b1,c1,f1,x01)"
   ]
  },
  {
   "cell_type": "code",
   "execution_count": 27,
   "metadata": {},
   "outputs": [],
   "source": [
    "from scipy.optimize import curve_fit"
   ]
  },
  {
   "cell_type": "code",
   "execution_count": 28,
   "metadata": {},
   "outputs": [],
   "source": [
    "#Testing"
   ]
  },
  {
   "cell_type": "code",
   "execution_count": 29,
   "metadata": {},
   "outputs": [],
   "source": [
    "param, cov = curve_fit(G,normalized_data[x_label],normalized_data[\"440\"], p0=[1.0,100.0,0.0001,100.0,440], method=\"lm\")"
   ]
  },
  {
   "cell_type": "code",
   "execution_count": 30,
   "metadata": {},
   "outputs": [],
   "source": [
    "A,b,c,f,x0 = param"
   ]
  },
  {
   "cell_type": "code",
   "execution_count": 31,
   "metadata": {},
   "outputs": [],
   "source": [
    "x = np.linspace(0,1000,1000)"
   ]
  },
  {
   "cell_type": "code",
   "execution_count": 32,
   "metadata": {},
   "outputs": [],
   "source": [
    "y = G(x,A,b,c,f,x0)"
   ]
  },
  {
   "cell_type": "code",
   "execution_count": 33,
   "metadata": {},
   "outputs": [
    {
     "data": {
      "text/html": [
       "        <script type=\"text/javascript\">\n",
       "        window.PlotlyConfig = {MathJaxConfig: 'local'};\n",
       "        if (window.MathJax) {MathJax.Hub.Config({SVG: {font: \"STIX-Web\"}});}\n",
       "        if (typeof require !== 'undefined') {\n",
       "        require.undef(\"plotly\");\n",
       "        requirejs.config({\n",
       "            paths: {\n",
       "                'plotly': ['https://cdn.plot.ly/plotly-latest.min']\n",
       "            }\n",
       "        });\n",
       "        require(['plotly'], function(Plotly) {\n",
       "            window._Plotly = Plotly;\n",
       "        });\n",
       "        }\n",
       "        </script>\n",
       "        "
      ]
     },
     "metadata": {},
     "output_type": "display_data"
    },
    {
     "name": "stderr",
     "output_type": "stream",
     "text": [
      "/usr/local/lib/python3.6/dist-packages/plotly/graph_objs/_deprecations.py:385: DeprecationWarning:\n",
      "\n",
      "plotly.graph_objs.Line is deprecated.\n",
      "Please replace it with one of the following more specific types\n",
      "  - plotly.graph_objs.scatter.Line\n",
      "  - plotly.graph_objs.layout.shape.Line\n",
      "  - etc.\n",
      "\n",
      "\n"
     ]
    },
    {
     "data": {
      "text/plain": [
       "'temp-plot.html'"
      ]
     },
     "execution_count": 33,
     "metadata": {},
     "output_type": "execute_result"
    }
   ],
   "source": [
    "from plotly.offline import plot, iplot, init_notebook_mode\n",
    "init_notebook_mode(connected = True)\n",
    "import plotly.graph_objects as go\n",
    "import plotly.io as pio\n",
    "pio.renderers.default = \"iframe\"\n",
    "\n",
    "data = [go.Scatter(x=x,y=y), go.Line(x=normalized_data[x_label], y=normalized_data[\"440\"])]\n",
    "\n",
    "plot(data)"
   ]
  },
  {
   "cell_type": "code",
   "execution_count": 34,
   "metadata": {},
   "outputs": [],
   "source": [
    "#Fitting curves"
   ]
  },
  {
   "cell_type": "code",
   "execution_count": 89,
   "metadata": {},
   "outputs": [],
   "source": [
    "parameters = {}"
   ]
  },
  {
   "cell_type": "code",
   "execution_count": 90,
   "metadata": {},
   "outputs": [],
   "source": [
    "p0 = {\n",
    "    \"440\":[1.0,100.0,1e-10,0.5,440],\n",
    "    \"470\":[1.0,100.0,1e-10,0.5,440],\n",
    "    \"495\":[1.0,100.0,1e-10,0.5,495],\n",
    "    \"530\":[1.0,100.0,1e-10,0.5,530],\n",
    "    \"595\":[1.0,100.0,1e-10,0.5,595],\n",
    "    \"634\":[1.0,100.0,1e-10,0.5,634],\n",
    "    \"660\":[1.0,100.0,1e-10,0.5,660],\n",
    "    \"684\":[1.0,100.0,1e-10,0.5,595],\n",
    "    \"branco\":[1.0,1.0,1.0,1.0,1e-10,1e-10,0,0,450,550],\n",
    "    \"full\":[1.0,1.0,1.0,1.0,0,0,0,0,450,650]\n",
    "}"
   ]
  },
  {
   "cell_type": "code",
   "execution_count": 91,
   "metadata": {},
   "outputs": [
    {
     "name": "stdout",
     "output_type": "stream",
     "text": [
      "440\n",
      "470\n",
      "495\n",
      "530\n",
      "595\n",
      "634\n",
      "660\n",
      "684\n"
     ]
    },
    {
     "name": "stderr",
     "output_type": "stream",
     "text": [
      "/home/pi/.local/lib/python3.6/site-packages/pandas/core/series.py:853: RuntimeWarning:\n",
      "\n",
      "overflow encountered in exp\n",
      "\n"
     ]
    },
    {
     "name": "stdout",
     "output_type": "stream",
     "text": [
      "branco\n",
      "full\n"
     ]
    }
   ],
   "source": [
    "for label in y_labels:\n",
    "    print(label)\n",
    "    if label!=\"branco\" and label!=\"full\":\n",
    "        try:\n",
    "            bounds = [[-np.inf,-np.inf,-np.inf,0,-np.inf],[np.inf,np.inf,np.inf,1,np.inf]]\n",
    "            param, cov = curve_fit(G, normalized_data[x_label], normalized_data[label], p0=p0[label], method=\"trf\", bounds=bounds)\n",
    "            parameters[label] = param\n",
    "        except RuntimeError:\n",
    "            print(\"RuntimeError\", label)\n",
    "    else:\n",
    "        bounds = [[-np.inf for i in range(10)],[np.inf for i in range(10)]]\n",
    "        bounds[0][6] = 0\n",
    "        bounds[1][6] = 1\n",
    "        bounds[0][7] = 0\n",
    "        bounds[1][7] = 1\n",
    "        param, cov = curve_fit(H, normalized_data[x_label], normalized_data[label], p0=p0[label], method=\"trf\", bounds=bounds)\n",
    "        parameters[label] = param"
   ]
  },
  {
   "cell_type": "code",
   "execution_count": 92,
   "metadata": {},
   "outputs": [
    {
     "data": {
      "text/plain": [
       "{'440': array([ 1.63666502e+01,  1.69691362e+01, -3.76295941e-02,  7.14459564e-01,\n",
       "         4.38832687e+02]),\n",
       " '470': array([ 1.33689871e+01,  2.23983427e+01, -2.61263030e-02,  5.82006101e-01,\n",
       "         4.69139614e+02]),\n",
       " '495': array([ 1.06213733e+01,  2.46220637e+01, -3.13360733e-02,  4.68531094e-01,\n",
       "         4.93840808e+02]),\n",
       " '530': array([ 7.56834110e+00,  3.09269990e+01, -2.23969211e-02,  4.71412689e-01,\n",
       "         5.22596200e+02]),\n",
       " '595': array([3.49010120e+00, 1.49543001e+01, 2.52617308e-02, 6.13218224e-01,\n",
       "        5.96567622e+02]),\n",
       " '634': array([9.11610342e+00, 1.67337482e+01, 4.74189612e-02, 5.59423305e-01,\n",
       "        6.35223104e+02]),\n",
       " '660': array([1.10638210e+01, 1.90622243e+01, 4.77684033e-02, 5.57073142e-01,\n",
       "        6.60284449e+02]),\n",
       " '684': array([ 6.25764289e+02,  5.34588325e+12, -1.11077484e-01,  1.00000000e+00,\n",
       "         8.97901203e+02]),\n",
       " 'branco': array([ 3.89328716e+00,  2.20818328e+01,  2.06297319e+01,  1.15085193e+02,\n",
       "         4.94371626e-03, -4.47135384e-03,  6.88536342e-01,  2.83876948e-26,\n",
       "         4.49190395e+02,  5.71659025e+02]),\n",
       " 'full': array([ 2.48588610e+00,  1.29582266e+01,  1.98016172e+01,  9.29628464e+01,\n",
       "        -3.80695305e-02, -5.38262400e-03,  7.86155861e-01,  1.63250230e-02,\n",
       "         4.54300866e+02,  6.51508251e+02])}"
      ]
     },
     "execution_count": 92,
     "metadata": {},
     "output_type": "execute_result"
    }
   ],
   "source": [
    "parameters"
   ]
  },
  {
   "cell_type": "code",
   "execution_count": 93,
   "metadata": {
    "collapsed": true,
    "jupyter": {
     "outputs_hidden": true
    }
   },
   "outputs": [
    {
     "name": "stderr",
     "output_type": "stream",
     "text": [
      "/usr/local/lib/python3.6/dist-packages/plotly/graph_objs/_deprecations.py:385: DeprecationWarning:\n",
      "\n",
      "plotly.graph_objs.Line is deprecated.\n",
      "Please replace it with one of the following more specific types\n",
      "  - plotly.graph_objs.scatter.Line\n",
      "  - plotly.graph_objs.layout.shape.Line\n",
      "  - etc.\n",
      "\n",
      "\n",
      "/usr/local/lib/python3.6/dist-packages/plotly/graph_objs/_deprecations.py:385: DeprecationWarning:\n",
      "\n",
      "plotly.graph_objs.Line is deprecated.\n",
      "Please replace it with one of the following more specific types\n",
      "  - plotly.graph_objs.scatter.Line\n",
      "  - plotly.graph_objs.layout.shape.Line\n",
      "  - etc.\n",
      "\n",
      "\n",
      "/usr/local/lib/python3.6/dist-packages/plotly/graph_objs/_deprecations.py:385: DeprecationWarning:\n",
      "\n",
      "plotly.graph_objs.Line is deprecated.\n",
      "Please replace it with one of the following more specific types\n",
      "  - plotly.graph_objs.scatter.Line\n",
      "  - plotly.graph_objs.layout.shape.Line\n",
      "  - etc.\n",
      "\n",
      "\n",
      "/usr/local/lib/python3.6/dist-packages/plotly/graph_objs/_deprecations.py:385: DeprecationWarning:\n",
      "\n",
      "plotly.graph_objs.Line is deprecated.\n",
      "Please replace it with one of the following more specific types\n",
      "  - plotly.graph_objs.scatter.Line\n",
      "  - plotly.graph_objs.layout.shape.Line\n",
      "  - etc.\n",
      "\n",
      "\n",
      "/usr/local/lib/python3.6/dist-packages/plotly/graph_objs/_deprecations.py:385: DeprecationWarning:\n",
      "\n",
      "plotly.graph_objs.Line is deprecated.\n",
      "Please replace it with one of the following more specific types\n",
      "  - plotly.graph_objs.scatter.Line\n",
      "  - plotly.graph_objs.layout.shape.Line\n",
      "  - etc.\n",
      "\n",
      "\n",
      "/usr/local/lib/python3.6/dist-packages/plotly/graph_objs/_deprecations.py:385: DeprecationWarning:\n",
      "\n",
      "plotly.graph_objs.Line is deprecated.\n",
      "Please replace it with one of the following more specific types\n",
      "  - plotly.graph_objs.scatter.Line\n",
      "  - plotly.graph_objs.layout.shape.Line\n",
      "  - etc.\n",
      "\n",
      "\n",
      "/usr/local/lib/python3.6/dist-packages/plotly/graph_objs/_deprecations.py:385: DeprecationWarning:\n",
      "\n",
      "plotly.graph_objs.Line is deprecated.\n",
      "Please replace it with one of the following more specific types\n",
      "  - plotly.graph_objs.scatter.Line\n",
      "  - plotly.graph_objs.layout.shape.Line\n",
      "  - etc.\n",
      "\n",
      "\n",
      "/usr/local/lib/python3.6/dist-packages/plotly/graph_objs/_deprecations.py:385: DeprecationWarning:\n",
      "\n",
      "plotly.graph_objs.Line is deprecated.\n",
      "Please replace it with one of the following more specific types\n",
      "  - plotly.graph_objs.scatter.Line\n",
      "  - plotly.graph_objs.layout.shape.Line\n",
      "  - etc.\n",
      "\n",
      "\n",
      "/usr/local/lib/python3.6/dist-packages/plotly/graph_objs/_deprecations.py:385: DeprecationWarning:\n",
      "\n",
      "plotly.graph_objs.Line is deprecated.\n",
      "Please replace it with one of the following more specific types\n",
      "  - plotly.graph_objs.scatter.Line\n",
      "  - plotly.graph_objs.layout.shape.Line\n",
      "  - etc.\n",
      "\n",
      "\n",
      "/usr/local/lib/python3.6/dist-packages/plotly/graph_objs/_deprecations.py:385: DeprecationWarning:\n",
      "\n",
      "plotly.graph_objs.Line is deprecated.\n",
      "Please replace it with one of the following more specific types\n",
      "  - plotly.graph_objs.scatter.Line\n",
      "  - plotly.graph_objs.layout.shape.Line\n",
      "  - etc.\n",
      "\n",
      "\n"
     ]
    },
    {
     "data": {
      "text/plain": [
       "<Figure size 432x288 with 0 Axes>"
      ]
     },
     "metadata": {},
     "output_type": "display_data"
    },
    {
     "data": {
      "text/plain": [
       "<Figure size 432x288 with 0 Axes>"
      ]
     },
     "metadata": {},
     "output_type": "display_data"
    },
    {
     "data": {
      "text/plain": [
       "<Figure size 432x288 with 0 Axes>"
      ]
     },
     "metadata": {},
     "output_type": "display_data"
    },
    {
     "data": {
      "text/plain": [
       "<Figure size 432x288 with 0 Axes>"
      ]
     },
     "metadata": {},
     "output_type": "display_data"
    },
    {
     "data": {
      "text/plain": [
       "<Figure size 432x288 with 0 Axes>"
      ]
     },
     "metadata": {},
     "output_type": "display_data"
    },
    {
     "data": {
      "text/plain": [
       "<Figure size 432x288 with 0 Axes>"
      ]
     },
     "metadata": {},
     "output_type": "display_data"
    },
    {
     "data": {
      "text/plain": [
       "<Figure size 432x288 with 0 Axes>"
      ]
     },
     "metadata": {},
     "output_type": "display_data"
    },
    {
     "data": {
      "text/plain": [
       "<Figure size 432x288 with 0 Axes>"
      ]
     },
     "metadata": {},
     "output_type": "display_data"
    },
    {
     "data": {
      "text/plain": [
       "<Figure size 432x288 with 0 Axes>"
      ]
     },
     "metadata": {},
     "output_type": "display_data"
    },
    {
     "data": {
      "text/plain": [
       "<Figure size 432x288 with 0 Axes>"
      ]
     },
     "metadata": {},
     "output_type": "display_data"
    }
   ],
   "source": [
    "for label in y_labels:\n",
    "    plt.figure(label)\n",
    "    if label!=\"branco\" and label!=\"full\":\n",
    "        y = G(x,*parameters[label])\n",
    "    else:\n",
    "        y = H(x,*parameters[label])\n",
    "    data = [go.Scatter(x=x,y=y), go.Line(x=normalized_data[x_label], y=normalized_data[label])]\n",
    "    fig = go.Figure(data)\n",
    "    plot(fig, filename=f\"plots/curve_fit_{label}.html\")\n",
    "    \"\"\"\n",
    "    plt.scatter(normalized_data[x_label],normalized_data[label])\n",
    "    plt.plot(x,y)\n",
    "    plt.savefig(f\"plots/curve_fit_{label}.png\")\n",
    "    plt.clf()\n",
    "    \"\"\""
   ]
  },
  {
   "cell_type": "code",
   "execution_count": 94,
   "metadata": {},
   "outputs": [],
   "source": [
    "import json"
   ]
  },
  {
   "cell_type": "code",
   "execution_count": 95,
   "metadata": {},
   "outputs": [],
   "source": [
    "p = {}\n",
    "for label, value in parameters.items():\n",
    "    p[label] = value.tolist()\n",
    "p[\"header\"] = [\"A0\",\"A1\",\"b0\",\"b1\",\"c0\",\"c1\",\"f0\",\"f1\",\"x00\",\"x01\"]"
   ]
  },
  {
   "cell_type": "code",
   "execution_count": 96,
   "metadata": {},
   "outputs": [],
   "source": [
    "with open(\"parameters.json\", \"w\") as f:\n",
    "    json.dump(p,f)"
   ]
  },
  {
   "cell_type": "markdown",
   "metadata": {},
   "source": [
    "Generator set\n",
    "============="
   ]
  },
  {
   "cell_type": "code",
   "execution_count": null,
   "metadata": {},
   "outputs": [],
   "source": []
  }
 ],
 "metadata": {
  "kernelspec": {
   "display_name": "Python 3",
   "language": "python",
   "name": "python3"
  },
  "language_info": {
   "codemirror_mode": {
    "name": "ipython",
    "version": 3
   },
   "file_extension": ".py",
   "mimetype": "text/x-python",
   "name": "python",
   "nbconvert_exporter": "python",
   "pygments_lexer": "ipython3",
   "version": "3.6.9"
  }
 },
 "nbformat": 4,
 "nbformat_minor": 4
}
