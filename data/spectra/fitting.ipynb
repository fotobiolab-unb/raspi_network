{
 "cells": [
  {
   "cell_type": "code",
   "execution_count": 8,
   "metadata": {},
   "outputs": [],
   "source": [
    "import pandas as pd\n",
    "import numpy as np\n",
    "from optimize import curve_fit as ocurve_fit\n",
    "from scipy.special import expit\n",
    "from scipy.optimize import minimize\n",
    "import json"
   ]
  },
  {
   "cell_type": "code",
   "execution_count": 9,
   "metadata": {},
   "outputs": [],
   "source": [
    "spectra = pd.read_csv(\"spectra.dat\", sep=\"\\t\")"
   ]
  },
  {
   "cell_type": "code",
   "execution_count": 10,
   "metadata": {},
   "outputs": [
    {
     "data": {
      "text/html": [
       "<div>\n",
       "<style scoped>\n",
       "    .dataframe tbody tr th:only-of-type {\n",
       "        vertical-align: middle;\n",
       "    }\n",
       "\n",
       "    .dataframe tbody tr th {\n",
       "        vertical-align: top;\n",
       "    }\n",
       "\n",
       "    .dataframe thead th {\n",
       "        text-align: right;\n",
       "    }\n",
       "</style>\n",
       "<table border=\"1\" class=\"dataframe\">\n",
       "  <thead>\n",
       "    <tr style=\"text-align: right;\">\n",
       "      <th></th>\n",
       "      <th>Lambda</th>\n",
       "      <th>440</th>\n",
       "      <th>470</th>\n",
       "      <th>495</th>\n",
       "      <th>530</th>\n",
       "      <th>595</th>\n",
       "      <th>634</th>\n",
       "      <th>660</th>\n",
       "      <th>684</th>\n",
       "      <th>branco</th>\n",
       "      <th>full</th>\n",
       "    </tr>\n",
       "  </thead>\n",
       "  <tbody>\n",
       "    <tr>\n",
       "      <td>1</td>\n",
       "      <td>194.152420</td>\n",
       "      <td>0.011534</td>\n",
       "      <td>0.007311</td>\n",
       "      <td>0.008760</td>\n",
       "      <td>0.009653</td>\n",
       "      <td>0.010221</td>\n",
       "      <td>0.006451</td>\n",
       "      <td>0.005752</td>\n",
       "      <td>0.003734</td>\n",
       "      <td>0.018989</td>\n",
       "      <td>0.010652</td>\n",
       "    </tr>\n",
       "    <tr>\n",
       "      <td>2</td>\n",
       "      <td>194.354370</td>\n",
       "      <td>-0.000009</td>\n",
       "      <td>0.000591</td>\n",
       "      <td>0.000111</td>\n",
       "      <td>0.000858</td>\n",
       "      <td>0.001224</td>\n",
       "      <td>0.001125</td>\n",
       "      <td>0.001836</td>\n",
       "      <td>0.001697</td>\n",
       "      <td>0.009667</td>\n",
       "      <td>0.005833</td>\n",
       "    </tr>\n",
       "    <tr>\n",
       "      <td>3</td>\n",
       "      <td>194.556335</td>\n",
       "      <td>0.000103</td>\n",
       "      <td>0.001438</td>\n",
       "      <td>0.002259</td>\n",
       "      <td>0.001650</td>\n",
       "      <td>0.000233</td>\n",
       "      <td>-0.000425</td>\n",
       "      <td>-0.000221</td>\n",
       "      <td>0.003679</td>\n",
       "      <td>0.009298</td>\n",
       "      <td>0.005016</td>\n",
       "    </tr>\n",
       "    <tr>\n",
       "      <td>4</td>\n",
       "      <td>194.758316</td>\n",
       "      <td>-0.001900</td>\n",
       "      <td>0.000816</td>\n",
       "      <td>0.001665</td>\n",
       "      <td>0.000688</td>\n",
       "      <td>0.000460</td>\n",
       "      <td>0.001012</td>\n",
       "      <td>-0.002362</td>\n",
       "      <td>0.003790</td>\n",
       "      <td>0.009440</td>\n",
       "      <td>0.005072</td>\n",
       "    </tr>\n",
       "    <tr>\n",
       "      <td>5</td>\n",
       "      <td>194.960327</td>\n",
       "      <td>0.003095</td>\n",
       "      <td>0.001776</td>\n",
       "      <td>0.006867</td>\n",
       "      <td>0.005864</td>\n",
       "      <td>0.004506</td>\n",
       "      <td>0.003886</td>\n",
       "      <td>0.005329</td>\n",
       "      <td>0.005074</td>\n",
       "      <td>0.015436</td>\n",
       "      <td>0.008736</td>\n",
       "    </tr>\n",
       "    <tr>\n",
       "      <td>...</td>\n",
       "      <td>...</td>\n",
       "      <td>...</td>\n",
       "      <td>...</td>\n",
       "      <td>...</td>\n",
       "      <td>...</td>\n",
       "      <td>...</td>\n",
       "      <td>...</td>\n",
       "      <td>...</td>\n",
       "      <td>...</td>\n",
       "      <td>...</td>\n",
       "      <td>...</td>\n",
       "    </tr>\n",
       "    <tr>\n",
       "      <td>3644</td>\n",
       "      <td>1013.778564</td>\n",
       "      <td>-0.012484</td>\n",
       "      <td>-0.014289</td>\n",
       "      <td>-0.014249</td>\n",
       "      <td>-0.016394</td>\n",
       "      <td>-0.013914</td>\n",
       "      <td>-0.011274</td>\n",
       "      <td>-0.008560</td>\n",
       "      <td>-0.003437</td>\n",
       "      <td>-0.020287</td>\n",
       "      <td>-0.012906</td>\n",
       "    </tr>\n",
       "    <tr>\n",
       "      <td>3645</td>\n",
       "      <td>1014.019653</td>\n",
       "      <td>-0.014234</td>\n",
       "      <td>-0.015080</td>\n",
       "      <td>-0.015267</td>\n",
       "      <td>-0.017638</td>\n",
       "      <td>-0.017082</td>\n",
       "      <td>-0.012570</td>\n",
       "      <td>-0.009095</td>\n",
       "      <td>-0.003604</td>\n",
       "      <td>-0.020741</td>\n",
       "      <td>-0.014738</td>\n",
       "    </tr>\n",
       "    <tr>\n",
       "      <td>3646</td>\n",
       "      <td>1014.260681</td>\n",
       "      <td>-0.011892</td>\n",
       "      <td>-0.015108</td>\n",
       "      <td>-0.013768</td>\n",
       "      <td>-0.015404</td>\n",
       "      <td>-0.015696</td>\n",
       "      <td>-0.010964</td>\n",
       "      <td>-0.008672</td>\n",
       "      <td>-0.003799</td>\n",
       "      <td>-0.021708</td>\n",
       "      <td>-0.012822</td>\n",
       "    </tr>\n",
       "    <tr>\n",
       "      <td>3647</td>\n",
       "      <td>1014.501709</td>\n",
       "      <td>-0.015900</td>\n",
       "      <td>-0.014826</td>\n",
       "      <td>-0.016030</td>\n",
       "      <td>-0.016705</td>\n",
       "      <td>-0.018893</td>\n",
       "      <td>-0.010598</td>\n",
       "      <td>-0.011011</td>\n",
       "      <td>-0.002907</td>\n",
       "      <td>-0.021424</td>\n",
       "      <td>-0.016063</td>\n",
       "    </tr>\n",
       "    <tr>\n",
       "      <td>3648</td>\n",
       "      <td>1014.742798</td>\n",
       "      <td>-0.011864</td>\n",
       "      <td>-0.015108</td>\n",
       "      <td>-0.012779</td>\n",
       "      <td>-0.014951</td>\n",
       "      <td>-0.015243</td>\n",
       "      <td>-0.011415</td>\n",
       "      <td>-0.008644</td>\n",
       "      <td>-0.001539</td>\n",
       "      <td>-0.021338</td>\n",
       "      <td>-0.013583</td>\n",
       "    </tr>\n",
       "  </tbody>\n",
       "</table>\n",
       "<p>3648 rows × 11 columns</p>\n",
       "</div>"
      ],
      "text/plain": [
       "           Lambda       440       470       495       530       595       634  \\\n",
       "1      194.152420  0.011534  0.007311  0.008760  0.009653  0.010221  0.006451   \n",
       "2      194.354370 -0.000009  0.000591  0.000111  0.000858  0.001224  0.001125   \n",
       "3      194.556335  0.000103  0.001438  0.002259  0.001650  0.000233 -0.000425   \n",
       "4      194.758316 -0.001900  0.000816  0.001665  0.000688  0.000460  0.001012   \n",
       "5      194.960327  0.003095  0.001776  0.006867  0.005864  0.004506  0.003886   \n",
       "...           ...       ...       ...       ...       ...       ...       ...   \n",
       "3644  1013.778564 -0.012484 -0.014289 -0.014249 -0.016394 -0.013914 -0.011274   \n",
       "3645  1014.019653 -0.014234 -0.015080 -0.015267 -0.017638 -0.017082 -0.012570   \n",
       "3646  1014.260681 -0.011892 -0.015108 -0.013768 -0.015404 -0.015696 -0.010964   \n",
       "3647  1014.501709 -0.015900 -0.014826 -0.016030 -0.016705 -0.018893 -0.010598   \n",
       "3648  1014.742798 -0.011864 -0.015108 -0.012779 -0.014951 -0.015243 -0.011415   \n",
       "\n",
       "           660       684    branco      full  \n",
       "1     0.005752  0.003734  0.018989  0.010652  \n",
       "2     0.001836  0.001697  0.009667  0.005833  \n",
       "3    -0.000221  0.003679  0.009298  0.005016  \n",
       "4    -0.002362  0.003790  0.009440  0.005072  \n",
       "5     0.005329  0.005074  0.015436  0.008736  \n",
       "...        ...       ...       ...       ...  \n",
       "3644 -0.008560 -0.003437 -0.020287 -0.012906  \n",
       "3645 -0.009095 -0.003604 -0.020741 -0.014738  \n",
       "3646 -0.008672 -0.003799 -0.021708 -0.012822  \n",
       "3647 -0.011011 -0.002907 -0.021424 -0.016063  \n",
       "3648 -0.008644 -0.001539 -0.021338 -0.013583  \n",
       "\n",
       "[3648 rows x 11 columns]"
      ]
     },
     "execution_count": 10,
     "metadata": {},
     "output_type": "execute_result"
    }
   ],
   "source": [
    "spectra_data = spectra[1:]\n",
    "spectra_data = spectra_data.astype(float)\n",
    "spectra_data"
   ]
  },
  {
   "cell_type": "code",
   "execution_count": null,
   "metadata": {},
   "outputs": [],
   "source": []
  },
  {
   "cell_type": "code",
   "execution_count": 11,
   "metadata": {},
   "outputs": [],
   "source": [
    "#irrad = pd.read_csv(\"irradiancia.dat\", sep=\"\\t\")"
   ]
  },
  {
   "cell_type": "code",
   "execution_count": 12,
   "metadata": {},
   "outputs": [],
   "source": [
    "#irrad.iloc[4,1::2]"
   ]
  },
  {
   "cell_type": "code",
   "execution_count": 13,
   "metadata": {},
   "outputs": [],
   "source": [
    "irrad = {}\n",
    "with open(\"irradiancia2.json\") as jfile:\n",
    "    irrad = json.load(jfile)"
   ]
  },
  {
   "cell_type": "code",
   "execution_count": 14,
   "metadata": {},
   "outputs": [],
   "source": [
    "#Getting Actual areas"
   ]
  },
  {
   "cell_type": "code",
   "execution_count": 15,
   "metadata": {},
   "outputs": [
    {
     "data": {
      "text/plain": [
       "branco    13.0\n",
       "full      13.0\n",
       "440        8.0\n",
       "470        7.0\n",
       "495        6.0\n",
       "530        5.0\n",
       "595        2.0\n",
       "634        5.0\n",
       "660        5.0\n",
       "684        8.0\n",
       "dtype: float64"
      ]
     },
     "execution_count": 15,
     "metadata": {},
     "output_type": "execute_result"
    }
   ],
   "source": [
    "#A = irrad.iloc[4,1::2].astype(float)\n",
    "A = pd.Series(irrad).astype(float)\n",
    "A"
   ]
  },
  {
   "cell_type": "markdown",
   "metadata": {},
   "source": [
    "Calculating Integrals and Normalizing\n",
    "====================================="
   ]
  },
  {
   "cell_type": "code",
   "execution_count": 16,
   "metadata": {},
   "outputs": [],
   "source": [
    "y_labels = spectra_data.columns[1:]\n",
    "x_label = \"Lambda\""
   ]
  },
  {
   "cell_type": "code",
   "execution_count": 17,
   "metadata": {},
   "outputs": [],
   "source": [
    "A_star = {} #Integrals for the spectra in arbitrary units"
   ]
  },
  {
   "cell_type": "code",
   "execution_count": 18,
   "metadata": {},
   "outputs": [],
   "source": [
    "for label in y_labels:\n",
    "    A_star[label] = np.trapz(spectra_data[label], x=spectra_data[x_label])"
   ]
  },
  {
   "cell_type": "code",
   "execution_count": 19,
   "metadata": {},
   "outputs": [
    {
     "data": {
      "text/plain": [
       "440        13.289713\n",
       "470        18.925137\n",
       "495        18.771848\n",
       "530        30.994957\n",
       "595        16.052588\n",
       "634        18.381114\n",
       "660        18.729419\n",
       "684        27.182472\n",
       "branco    103.859368\n",
       "full       88.305570\n",
       "dtype: float64"
      ]
     },
     "execution_count": 19,
     "metadata": {},
     "output_type": "execute_result"
    }
   ],
   "source": [
    "pd.Series(A_star)"
   ]
  },
  {
   "cell_type": "code",
   "execution_count": 20,
   "metadata": {},
   "outputs": [],
   "source": [
    "#Making branco=avg(branco1, branco2)"
   ]
  },
  {
   "cell_type": "code",
   "execution_count": 21,
   "metadata": {},
   "outputs": [],
   "source": [
    "#A[\"branco\"] = 0.5*(A[\"branco1\"]+A[\"branco2\"])"
   ]
  },
  {
   "cell_type": "code",
   "execution_count": 22,
   "metadata": {},
   "outputs": [],
   "source": [
    "#A = A[2:] #Removing branco1 and branco2\n",
    "#A"
   ]
  },
  {
   "cell_type": "code",
   "execution_count": 23,
   "metadata": {},
   "outputs": [],
   "source": [
    "normalized_data = (spectra_data.iloc[:,1:]/A_star)*A"
   ]
  },
  {
   "cell_type": "code",
   "execution_count": 24,
   "metadata": {},
   "outputs": [],
   "source": [
    "normalized_data[x_label] = spectra_data[x_label]"
   ]
  },
  {
   "cell_type": "code",
   "execution_count": 25,
   "metadata": {},
   "outputs": [
    {
     "data": {
      "text/html": [
       "<div>\n",
       "<style scoped>\n",
       "    .dataframe tbody tr th:only-of-type {\n",
       "        vertical-align: middle;\n",
       "    }\n",
       "\n",
       "    .dataframe tbody tr th {\n",
       "        vertical-align: top;\n",
       "    }\n",
       "\n",
       "    .dataframe thead th {\n",
       "        text-align: right;\n",
       "    }\n",
       "</style>\n",
       "<table border=\"1\" class=\"dataframe\">\n",
       "  <thead>\n",
       "    <tr style=\"text-align: right;\">\n",
       "      <th></th>\n",
       "      <th>440</th>\n",
       "      <th>470</th>\n",
       "      <th>495</th>\n",
       "      <th>530</th>\n",
       "      <th>595</th>\n",
       "      <th>634</th>\n",
       "      <th>660</th>\n",
       "      <th>684</th>\n",
       "      <th>branco</th>\n",
       "      <th>full</th>\n",
       "      <th>Lambda</th>\n",
       "    </tr>\n",
       "  </thead>\n",
       "  <tbody>\n",
       "    <tr>\n",
       "      <td>1</td>\n",
       "      <td>0.006943</td>\n",
       "      <td>0.002704</td>\n",
       "      <td>0.002800</td>\n",
       "      <td>0.001557</td>\n",
       "      <td>0.001273</td>\n",
       "      <td>0.001755</td>\n",
       "      <td>0.001535</td>\n",
       "      <td>0.001099</td>\n",
       "      <td>0.002377</td>\n",
       "      <td>0.001568</td>\n",
       "      <td>194.152420</td>\n",
       "    </tr>\n",
       "    <tr>\n",
       "      <td>2</td>\n",
       "      <td>-0.000006</td>\n",
       "      <td>0.000218</td>\n",
       "      <td>0.000035</td>\n",
       "      <td>0.000138</td>\n",
       "      <td>0.000152</td>\n",
       "      <td>0.000306</td>\n",
       "      <td>0.000490</td>\n",
       "      <td>0.000500</td>\n",
       "      <td>0.001210</td>\n",
       "      <td>0.000859</td>\n",
       "      <td>194.354370</td>\n",
       "    </tr>\n",
       "    <tr>\n",
       "      <td>3</td>\n",
       "      <td>0.000062</td>\n",
       "      <td>0.000532</td>\n",
       "      <td>0.000722</td>\n",
       "      <td>0.000266</td>\n",
       "      <td>0.000029</td>\n",
       "      <td>-0.000116</td>\n",
       "      <td>-0.000059</td>\n",
       "      <td>0.001083</td>\n",
       "      <td>0.001164</td>\n",
       "      <td>0.000738</td>\n",
       "      <td>194.556335</td>\n",
       "    </tr>\n",
       "    <tr>\n",
       "      <td>4</td>\n",
       "      <td>-0.001144</td>\n",
       "      <td>0.000302</td>\n",
       "      <td>0.000532</td>\n",
       "      <td>0.000111</td>\n",
       "      <td>0.000057</td>\n",
       "      <td>0.000275</td>\n",
       "      <td>-0.000630</td>\n",
       "      <td>0.001115</td>\n",
       "      <td>0.001182</td>\n",
       "      <td>0.000747</td>\n",
       "      <td>194.758316</td>\n",
       "    </tr>\n",
       "    <tr>\n",
       "      <td>5</td>\n",
       "      <td>0.001863</td>\n",
       "      <td>0.000657</td>\n",
       "      <td>0.002195</td>\n",
       "      <td>0.000946</td>\n",
       "      <td>0.000561</td>\n",
       "      <td>0.001057</td>\n",
       "      <td>0.001423</td>\n",
       "      <td>0.001493</td>\n",
       "      <td>0.001932</td>\n",
       "      <td>0.001286</td>\n",
       "      <td>194.960327</td>\n",
       "    </tr>\n",
       "    <tr>\n",
       "      <td>...</td>\n",
       "      <td>...</td>\n",
       "      <td>...</td>\n",
       "      <td>...</td>\n",
       "      <td>...</td>\n",
       "      <td>...</td>\n",
       "      <td>...</td>\n",
       "      <td>...</td>\n",
       "      <td>...</td>\n",
       "      <td>...</td>\n",
       "      <td>...</td>\n",
       "      <td>...</td>\n",
       "    </tr>\n",
       "    <tr>\n",
       "      <td>3644</td>\n",
       "      <td>-0.007515</td>\n",
       "      <td>-0.005285</td>\n",
       "      <td>-0.004554</td>\n",
       "      <td>-0.002645</td>\n",
       "      <td>-0.001733</td>\n",
       "      <td>-0.003067</td>\n",
       "      <td>-0.002285</td>\n",
       "      <td>-0.001011</td>\n",
       "      <td>-0.002539</td>\n",
       "      <td>-0.001900</td>\n",
       "      <td>1013.778564</td>\n",
       "    </tr>\n",
       "    <tr>\n",
       "      <td>3645</td>\n",
       "      <td>-0.008569</td>\n",
       "      <td>-0.005578</td>\n",
       "      <td>-0.004880</td>\n",
       "      <td>-0.002845</td>\n",
       "      <td>-0.002128</td>\n",
       "      <td>-0.003419</td>\n",
       "      <td>-0.002428</td>\n",
       "      <td>-0.001061</td>\n",
       "      <td>-0.002596</td>\n",
       "      <td>-0.002170</td>\n",
       "      <td>1014.019653</td>\n",
       "    </tr>\n",
       "    <tr>\n",
       "      <td>3646</td>\n",
       "      <td>-0.007158</td>\n",
       "      <td>-0.005588</td>\n",
       "      <td>-0.004401</td>\n",
       "      <td>-0.002485</td>\n",
       "      <td>-0.001956</td>\n",
       "      <td>-0.002982</td>\n",
       "      <td>-0.002315</td>\n",
       "      <td>-0.001118</td>\n",
       "      <td>-0.002717</td>\n",
       "      <td>-0.001888</td>\n",
       "      <td>1014.260681</td>\n",
       "    </tr>\n",
       "    <tr>\n",
       "      <td>3647</td>\n",
       "      <td>-0.009571</td>\n",
       "      <td>-0.005484</td>\n",
       "      <td>-0.005124</td>\n",
       "      <td>-0.002695</td>\n",
       "      <td>-0.002354</td>\n",
       "      <td>-0.002883</td>\n",
       "      <td>-0.002939</td>\n",
       "      <td>-0.000855</td>\n",
       "      <td>-0.002682</td>\n",
       "      <td>-0.002365</td>\n",
       "      <td>1014.501709</td>\n",
       "    </tr>\n",
       "    <tr>\n",
       "      <td>3648</td>\n",
       "      <td>-0.007141</td>\n",
       "      <td>-0.005588</td>\n",
       "      <td>-0.004085</td>\n",
       "      <td>-0.002412</td>\n",
       "      <td>-0.001899</td>\n",
       "      <td>-0.003105</td>\n",
       "      <td>-0.002308</td>\n",
       "      <td>-0.000453</td>\n",
       "      <td>-0.002671</td>\n",
       "      <td>-0.002000</td>\n",
       "      <td>1014.742798</td>\n",
       "    </tr>\n",
       "  </tbody>\n",
       "</table>\n",
       "<p>3648 rows × 11 columns</p>\n",
       "</div>"
      ],
      "text/plain": [
       "           440       470       495       530       595       634       660  \\\n",
       "1     0.006943  0.002704  0.002800  0.001557  0.001273  0.001755  0.001535   \n",
       "2    -0.000006  0.000218  0.000035  0.000138  0.000152  0.000306  0.000490   \n",
       "3     0.000062  0.000532  0.000722  0.000266  0.000029 -0.000116 -0.000059   \n",
       "4    -0.001144  0.000302  0.000532  0.000111  0.000057  0.000275 -0.000630   \n",
       "5     0.001863  0.000657  0.002195  0.000946  0.000561  0.001057  0.001423   \n",
       "...        ...       ...       ...       ...       ...       ...       ...   \n",
       "3644 -0.007515 -0.005285 -0.004554 -0.002645 -0.001733 -0.003067 -0.002285   \n",
       "3645 -0.008569 -0.005578 -0.004880 -0.002845 -0.002128 -0.003419 -0.002428   \n",
       "3646 -0.007158 -0.005588 -0.004401 -0.002485 -0.001956 -0.002982 -0.002315   \n",
       "3647 -0.009571 -0.005484 -0.005124 -0.002695 -0.002354 -0.002883 -0.002939   \n",
       "3648 -0.007141 -0.005588 -0.004085 -0.002412 -0.001899 -0.003105 -0.002308   \n",
       "\n",
       "           684    branco      full       Lambda  \n",
       "1     0.001099  0.002377  0.001568   194.152420  \n",
       "2     0.000500  0.001210  0.000859   194.354370  \n",
       "3     0.001083  0.001164  0.000738   194.556335  \n",
       "4     0.001115  0.001182  0.000747   194.758316  \n",
       "5     0.001493  0.001932  0.001286   194.960327  \n",
       "...        ...       ...       ...          ...  \n",
       "3644 -0.001011 -0.002539 -0.001900  1013.778564  \n",
       "3645 -0.001061 -0.002596 -0.002170  1014.019653  \n",
       "3646 -0.001118 -0.002717 -0.001888  1014.260681  \n",
       "3647 -0.000855 -0.002682 -0.002365  1014.501709  \n",
       "3648 -0.000453 -0.002671 -0.002000  1014.742798  \n",
       "\n",
       "[3648 rows x 11 columns]"
      ]
     },
     "execution_count": 25,
     "metadata": {},
     "output_type": "execute_result"
    }
   ],
   "source": [
    "normalized_data"
   ]
  },
  {
   "cell_type": "code",
   "execution_count": 26,
   "metadata": {},
   "outputs": [],
   "source": [
    "#Checking results"
   ]
  },
  {
   "cell_type": "code",
   "execution_count": 27,
   "metadata": {},
   "outputs": [],
   "source": [
    "sanity_check = {}\n",
    "for label in y_labels:\n",
    "    sanity_check[label] = np.trapz(normalized_data[label], x=normalized_data[x_label])"
   ]
  },
  {
   "cell_type": "code",
   "execution_count": 28,
   "metadata": {},
   "outputs": [
    {
     "data": {
      "text/html": [
       "<div>\n",
       "<style scoped>\n",
       "    .dataframe tbody tr th:only-of-type {\n",
       "        vertical-align: middle;\n",
       "    }\n",
       "\n",
       "    .dataframe tbody tr th {\n",
       "        vertical-align: top;\n",
       "    }\n",
       "\n",
       "    .dataframe thead th {\n",
       "        text-align: right;\n",
       "    }\n",
       "</style>\n",
       "<table border=\"1\" class=\"dataframe\">\n",
       "  <thead>\n",
       "    <tr style=\"text-align: right;\">\n",
       "      <th></th>\n",
       "      <th>0</th>\n",
       "      <th>1</th>\n",
       "    </tr>\n",
       "  </thead>\n",
       "  <tbody>\n",
       "    <tr>\n",
       "      <td>440</td>\n",
       "      <td>8.0</td>\n",
       "      <td>8.0</td>\n",
       "    </tr>\n",
       "    <tr>\n",
       "      <td>470</td>\n",
       "      <td>7.0</td>\n",
       "      <td>7.0</td>\n",
       "    </tr>\n",
       "    <tr>\n",
       "      <td>495</td>\n",
       "      <td>6.0</td>\n",
       "      <td>6.0</td>\n",
       "    </tr>\n",
       "    <tr>\n",
       "      <td>530</td>\n",
       "      <td>5.0</td>\n",
       "      <td>5.0</td>\n",
       "    </tr>\n",
       "    <tr>\n",
       "      <td>595</td>\n",
       "      <td>2.0</td>\n",
       "      <td>2.0</td>\n",
       "    </tr>\n",
       "    <tr>\n",
       "      <td>634</td>\n",
       "      <td>5.0</td>\n",
       "      <td>5.0</td>\n",
       "    </tr>\n",
       "    <tr>\n",
       "      <td>660</td>\n",
       "      <td>5.0</td>\n",
       "      <td>5.0</td>\n",
       "    </tr>\n",
       "    <tr>\n",
       "      <td>684</td>\n",
       "      <td>8.0</td>\n",
       "      <td>8.0</td>\n",
       "    </tr>\n",
       "    <tr>\n",
       "      <td>branco</td>\n",
       "      <td>13.0</td>\n",
       "      <td>13.0</td>\n",
       "    </tr>\n",
       "    <tr>\n",
       "      <td>full</td>\n",
       "      <td>13.0</td>\n",
       "      <td>13.0</td>\n",
       "    </tr>\n",
       "  </tbody>\n",
       "</table>\n",
       "</div>"
      ],
      "text/plain": [
       "           0     1\n",
       "440      8.0   8.0\n",
       "470      7.0   7.0\n",
       "495      6.0   6.0\n",
       "530      5.0   5.0\n",
       "595      2.0   2.0\n",
       "634      5.0   5.0\n",
       "660      5.0   5.0\n",
       "684      8.0   8.0\n",
       "branco  13.0  13.0\n",
       "full    13.0  13.0"
      ]
     },
     "execution_count": 28,
     "metadata": {},
     "output_type": "execute_result"
    }
   ],
   "source": [
    "pd.concat([pd.Series(sanity_check), A], axis=1, sort=True)"
   ]
  },
  {
   "cell_type": "code",
   "execution_count": 29,
   "metadata": {},
   "outputs": [],
   "source": [
    "import matplotlib.pyplot as plt\n",
    "plt.rcParams['figure.figsize'] = [20, 5]"
   ]
  },
  {
   "cell_type": "code",
   "execution_count": 30,
   "metadata": {},
   "outputs": [],
   "source": [
    "import plotly.express as px"
   ]
  },
  {
   "cell_type": "code",
   "execution_count": 31,
   "metadata": {},
   "outputs": [
    {
     "data": {
      "text/plain": [
       "[<matplotlib.lines.Line2D at 0x7fdc82b57ac8>,\n",
       " <matplotlib.lines.Line2D at 0x7fdc82b57be0>,\n",
       " <matplotlib.lines.Line2D at 0x7fdc82b57d30>,\n",
       " <matplotlib.lines.Line2D at 0x7fdc82b57e80>,\n",
       " <matplotlib.lines.Line2D at 0x7fdc82b57fd0>,\n",
       " <matplotlib.lines.Line2D at 0x7fdc82b67160>,\n",
       " <matplotlib.lines.Line2D at 0x7fdc82b672b0>,\n",
       " <matplotlib.lines.Line2D at 0x7fdc82b67400>,\n",
       " <matplotlib.lines.Line2D at 0x7fdc82b67550>,\n",
       " <matplotlib.lines.Line2D at 0x7fdc82b676a0>]"
      ]
     },
     "execution_count": 31,
     "metadata": {},
     "output_type": "execute_result"
    },
    {
     "data": {
      "image/png": "[encoded data removed]",
      "text/plain": [
       "<Figure size 432x288 with 1 Axes>"
      ]
     },
     "metadata": {
      "needs_background": "light"
     },
     "output_type": "display_data"
    }
   ],
   "source": [
    "plt.plot(normalized_data[x_label],normalized_data[y_labels])"
   ]
  },
  {
   "cell_type": "markdown",
   "metadata": {},
   "source": [
    "Fitting Data to Theoretical Curve\n",
    "================================="
   ]
  },
  {
   "cell_type": "code",
   "execution_count": 32,
   "metadata": {},
   "outputs": [
    {
     "data": {
      "text/plain": [
       "'\\ny(x)=f*((2*A/(pi*2*b/(1+exp(c*(x-x0)))))/(1+4*((x-x0)/(2*b/(1+exp(c*(x-x0)))))^2))+(1-f)*(A/(2*b/(1+exp(c*(x-x0)))))*(4*ln(2)/pi)*exp(-4*ln(2)*((x-x0)/(2*b/(1+exp(c*(x-x0)))))^2)\\n\\nparametros A,b,c,f,x0\\n'"
      ]
     },
     "execution_count": 32,
     "metadata": {},
     "output_type": "execute_result"
    }
   ],
   "source": [
    "\"\"\"\n",
    "y(x)=f*((2*A/(pi*2*b/(1+exp(c*(x-x0)))))/(1+4*((x-x0)/(2*b/(1+exp(c*(x-x0)))))^2))+(1-f)*(A/(2*b/(1+exp(c*(x-x0)))))*(4*ln(2)/pi)*exp(-4*ln(2)*((x-x0)/(2*b/(1+exp(c*(x-x0)))))^2)\n",
    "\n",
    "parametros A,b,c,f,x0\n",
    "\"\"\""
   ]
  },
  {
   "cell_type": "code",
   "execution_count": 33,
   "metadata": {},
   "outputs": [],
   "source": [
    "def G(x,A,b,c,f,x0): return f*((2*A/(np.pi*2*b/(1+np.exp(c*(x-x0)))))/(1+4*((x-x0)/(2*b/(1+np.exp(c*(x-x0)))))**2))+(1-f)*(A/(2*b/(1+np.exp(c*(x-x0)))))*(4*np.log(2)/np.pi)*np.exp(-4*np.log(2)*((x-x0)/(2*b/(1+np.exp(c*(x-x0)))))**2)"
   ]
  },
  {
   "cell_type": "code",
   "execution_count": 34,
   "metadata": {},
   "outputs": [],
   "source": [
    "def H(x,A0,A1,b0,b1,c0,c1,f0,f1,x00,x01): return G(x,A0,b0,c0,f0,x00) + G(x,A1,b1,c1,f1,x01)"
   ]
  },
  {
   "cell_type": "code",
   "execution_count": 35,
   "metadata": {},
   "outputs": [],
   "source": [
    "from scipy.optimize import curve_fit"
   ]
  },
  {
   "cell_type": "code",
   "execution_count": 36,
   "metadata": {},
   "outputs": [],
   "source": [
    "#Testing"
   ]
  },
  {
   "cell_type": "code",
   "execution_count": 37,
   "metadata": {},
   "outputs": [],
   "source": [
    "param, cov = curve_fit(G,normalized_data[x_label],normalized_data[\"440\"], p0=[1.0,100.0,0.0001,100.0,440], method=\"lm\")"
   ]
  },
  {
   "cell_type": "code",
   "execution_count": 38,
   "metadata": {},
   "outputs": [],
   "source": [
    "A,b,c,f,x0 = param"
   ]
  },
  {
   "cell_type": "code",
   "execution_count": 39,
   "metadata": {},
   "outputs": [],
   "source": [
    "x = np.linspace(0,1000,1000)"
   ]
  },
  {
   "cell_type": "code",
   "execution_count": 40,
   "metadata": {},
   "outputs": [],
   "source": [
    "y = G(x,A,b,c,f,x0)"
   ]
  },
  {
   "cell_type": "code",
   "execution_count": 41,
   "metadata": {},
   "outputs": [
    {
     "data": {
      "text/html": [
       "        <script type=\"text/javascript\">\n",
       "        window.PlotlyConfig = {MathJaxConfig: 'local'};\n",
       "        if (window.MathJax) {MathJax.Hub.Config({SVG: {font: \"STIX-Web\"}});}\n",
       "        if (typeof require !== 'undefined') {\n",
       "        require.undef(\"plotly\");\n",
       "        requirejs.config({\n",
       "            paths: {\n",
       "                'plotly': ['https://cdn.plot.ly/plotly-latest.min']\n",
       "            }\n",
       "        });\n",
       "        require(['plotly'], function(Plotly) {\n",
       "            window._Plotly = Plotly;\n",
       "        });\n",
       "        }\n",
       "        </script>\n",
       "        "
      ]
     },
     "metadata": {},
     "output_type": "display_data"
    },
    {
     "name": "stderr",
     "output_type": "stream",
     "text": [
      "/usr/local/lib/python3.6/dist-packages/plotly/graph_objs/_deprecations.py:385: DeprecationWarning:\n",
      "\n",
      "plotly.graph_objs.Line is deprecated.\n",
      "Please replace it with one of the following more specific types\n",
      "  - plotly.graph_objs.scatter.Line\n",
      "  - plotly.graph_objs.layout.shape.Line\n",
      "  - etc.\n",
      "\n",
      "\n"
     ]
    },
    {
     "data": {
      "text/plain": [
       "'temp-plot.html'"
      ]
     },
     "execution_count": 41,
     "metadata": {},
     "output_type": "execute_result"
    }
   ],
   "source": [
    "from plotly.offline import plot, iplot, init_notebook_mode\n",
    "init_notebook_mode(connected = True)\n",
    "import plotly.graph_objects as go\n",
    "import plotly.io as pio\n",
    "pio.renderers.default = \"iframe\"\n",
    "\n",
    "data = [go.Scatter(x=x,y=y), go.Line(x=normalized_data[x_label], y=normalized_data[\"440\"])]\n",
    "\n",
    "plot(data)"
   ]
  },
  {
   "cell_type": "code",
   "execution_count": 42,
   "metadata": {},
   "outputs": [],
   "source": [
    "#Fitting curves"
   ]
  },
  {
   "cell_type": "code",
   "execution_count": 43,
   "metadata": {},
   "outputs": [],
   "source": [
    "parameters = {}"
   ]
  },
  {
   "cell_type": "code",
   "execution_count": 44,
   "metadata": {},
   "outputs": [],
   "source": [
    "p0 = {\n",
    "    \"440\":[1.0,100.0,1e-10,0.5,440],\n",
    "    \"470\":[1.0,100.0,1e-10,0.5,440],\n",
    "    \"495\":[1.0,100.0,1e-10,0.5,495],\n",
    "    \"530\":[1.0,100.0,1e-10,0.5,530],\n",
    "    \"595\":[1.0,100.0,1e-10,0.5,595],\n",
    "    \"634\":[1.0,100.0,1e-10,0.5,634],\n",
    "    \"660\":[1.0,100.0,1e-10,0.5,660],\n",
    "    \"684\":[100.0,100.0,1,0,686],\n",
    "    \"branco\":[1.0,1.0,1.0,1.0,1e-10,1e-10,0,0,450,550],\n",
    "    \"full\":[1.0,1.0,1.0,1.0,0,0,0,0,450,650]\n",
    "}"
   ]
  },
  {
   "cell_type": "code",
   "execution_count": 45,
   "metadata": {},
   "outputs": [
    {
     "name": "stdout",
     "output_type": "stream",
     "text": [
      "440\n",
      "470\n",
      "495\n",
      "530\n",
      "595\n",
      "634\n",
      "660\n",
      "684\n",
      "branco\n",
      "full\n"
     ]
    }
   ],
   "source": [
    "for label in y_labels:\n",
    "    print(label)\n",
    "    if label!=\"branco\" and label!=\"full\" and label!=\"684\":\n",
    "        try:\n",
    "            bounds = [[-np.inf,-np.inf,-np.inf,0,-np.inf],[np.inf,np.inf,np.inf,1,np.inf]]\n",
    "            param, cov = curve_fit(G, normalized_data[x_label], normalized_data[label], p0=p0[label], method=\"trf\", bounds=bounds)\n",
    "            parameters[label] = param\n",
    "        except RuntimeError:\n",
    "            print(\"RuntimeError\", label)\n",
    "    elif label==\"684\":\n",
    "        def wrap684(x,*param):\n",
    "            param = list(param)\n",
    "            param[3] = expit(param[3])\n",
    "            return G(x,*param)\n",
    "        #parameters[label] = ocurve_fit(wrap684, normalized_data[x_label], normalized_data[label], p0[label])[\"x\"]\n",
    "        parameters[label] = curve_fit(wrap684, normalized_data[x_label], normalized_data[label], p0[label])[0]\n",
    "        parameters[label][3] = expit(parameters[label][3])\n",
    "        \n",
    "    else:\n",
    "        bounds = [[-np.inf for i in range(10)],[np.inf for i in range(10)]]\n",
    "        bounds[0][6] = 0\n",
    "        bounds[1][6] = 1\n",
    "        bounds[0][7] = 0\n",
    "        bounds[1][7] = 1\n",
    "        param, cov = curve_fit(H, normalized_data[x_label], normalized_data[label], p0=p0[label], method=\"trf\", bounds=bounds)\n",
    "        parameters[label] = param"
   ]
  },
  {
   "cell_type": "code",
   "execution_count": 76,
   "metadata": {},
   "outputs": [
    {
     "data": {
      "text/plain": [
       "dict_keys(['440', '470', '495', '530', '595', '634', '660', '684', 'branco', 'full'])"
      ]
     },
     "execution_count": 76,
     "metadata": {},
     "output_type": "execute_result"
    }
   ],
   "source": [
    "parameters.keys()"
   ]
  },
  {
   "cell_type": "code",
   "execution_count": 47,
   "metadata": {
    "collapsed": true,
    "jupyter": {
     "outputs_hidden": true
    }
   },
   "outputs": [
    {
     "name": "stderr",
     "output_type": "stream",
     "text": [
      "/usr/local/lib/python3.6/dist-packages/plotly/graph_objs/_deprecations.py:385: DeprecationWarning:\n",
      "\n",
      "plotly.graph_objs.Line is deprecated.\n",
      "Please replace it with one of the following more specific types\n",
      "  - plotly.graph_objs.scatter.Line\n",
      "  - plotly.graph_objs.layout.shape.Line\n",
      "  - etc.\n",
      "\n",
      "\n",
      "/usr/local/lib/python3.6/dist-packages/plotly/graph_objs/_deprecations.py:385: DeprecationWarning:\n",
      "\n",
      "plotly.graph_objs.Line is deprecated.\n",
      "Please replace it with one of the following more specific types\n",
      "  - plotly.graph_objs.scatter.Line\n",
      "  - plotly.graph_objs.layout.shape.Line\n",
      "  - etc.\n",
      "\n",
      "\n",
      "/usr/local/lib/python3.6/dist-packages/plotly/graph_objs/_deprecations.py:385: DeprecationWarning:\n",
      "\n",
      "plotly.graph_objs.Line is deprecated.\n",
      "Please replace it with one of the following more specific types\n",
      "  - plotly.graph_objs.scatter.Line\n",
      "  - plotly.graph_objs.layout.shape.Line\n",
      "  - etc.\n",
      "\n",
      "\n",
      "/usr/local/lib/python3.6/dist-packages/plotly/graph_objs/_deprecations.py:385: DeprecationWarning:\n",
      "\n",
      "plotly.graph_objs.Line is deprecated.\n",
      "Please replace it with one of the following more specific types\n",
      "  - plotly.graph_objs.scatter.Line\n",
      "  - plotly.graph_objs.layout.shape.Line\n",
      "  - etc.\n",
      "\n",
      "\n",
      "/usr/local/lib/python3.6/dist-packages/plotly/graph_objs/_deprecations.py:385: DeprecationWarning:\n",
      "\n",
      "plotly.graph_objs.Line is deprecated.\n",
      "Please replace it with one of the following more specific types\n",
      "  - plotly.graph_objs.scatter.Line\n",
      "  - plotly.graph_objs.layout.shape.Line\n",
      "  - etc.\n",
      "\n",
      "\n",
      "/usr/local/lib/python3.6/dist-packages/plotly/graph_objs/_deprecations.py:385: DeprecationWarning:\n",
      "\n",
      "plotly.graph_objs.Line is deprecated.\n",
      "Please replace it with one of the following more specific types\n",
      "  - plotly.graph_objs.scatter.Line\n",
      "  - plotly.graph_objs.layout.shape.Line\n",
      "  - etc.\n",
      "\n",
      "\n",
      "/usr/local/lib/python3.6/dist-packages/plotly/graph_objs/_deprecations.py:385: DeprecationWarning:\n",
      "\n",
      "plotly.graph_objs.Line is deprecated.\n",
      "Please replace it with one of the following more specific types\n",
      "  - plotly.graph_objs.scatter.Line\n",
      "  - plotly.graph_objs.layout.shape.Line\n",
      "  - etc.\n",
      "\n",
      "\n",
      "/usr/local/lib/python3.6/dist-packages/plotly/graph_objs/_deprecations.py:385: DeprecationWarning:\n",
      "\n",
      "plotly.graph_objs.Line is deprecated.\n",
      "Please replace it with one of the following more specific types\n",
      "  - plotly.graph_objs.scatter.Line\n",
      "  - plotly.graph_objs.layout.shape.Line\n",
      "  - etc.\n",
      "\n",
      "\n",
      "/usr/local/lib/python3.6/dist-packages/plotly/graph_objs/_deprecations.py:385: DeprecationWarning:\n",
      "\n",
      "plotly.graph_objs.Line is deprecated.\n",
      "Please replace it with one of the following more specific types\n",
      "  - plotly.graph_objs.scatter.Line\n",
      "  - plotly.graph_objs.layout.shape.Line\n",
      "  - etc.\n",
      "\n",
      "\n",
      "/usr/local/lib/python3.6/dist-packages/plotly/graph_objs/_deprecations.py:385: DeprecationWarning:\n",
      "\n",
      "plotly.graph_objs.Line is deprecated.\n",
      "Please replace it with one of the following more specific types\n",
      "  - plotly.graph_objs.scatter.Line\n",
      "  - plotly.graph_objs.layout.shape.Line\n",
      "  - etc.\n",
      "\n",
      "\n"
     ]
    },
    {
     "data": {
      "text/plain": [
       "<Figure size 432x288 with 0 Axes>"
      ]
     },
     "metadata": {},
     "output_type": "display_data"
    },
    {
     "data": {
      "text/plain": [
       "<Figure size 432x288 with 0 Axes>"
      ]
     },
     "metadata": {},
     "output_type": "display_data"
    },
    {
     "data": {
      "text/plain": [
       "<Figure size 432x288 with 0 Axes>"
      ]
     },
     "metadata": {},
     "output_type": "display_data"
    },
    {
     "data": {
      "text/plain": [
       "<Figure size 432x288 with 0 Axes>"
      ]
     },
     "metadata": {},
     "output_type": "display_data"
    },
    {
     "data": {
      "text/plain": [
       "<Figure size 432x288 with 0 Axes>"
      ]
     },
     "metadata": {},
     "output_type": "display_data"
    },
    {
     "data": {
      "text/plain": [
       "<Figure size 432x288 with 0 Axes>"
      ]
     },
     "metadata": {},
     "output_type": "display_data"
    },
    {
     "data": {
      "text/plain": [
       "<Figure size 432x288 with 0 Axes>"
      ]
     },
     "metadata": {},
     "output_type": "display_data"
    },
    {
     "data": {
      "text/plain": [
       "<Figure size 432x288 with 0 Axes>"
      ]
     },
     "metadata": {},
     "output_type": "display_data"
    },
    {
     "data": {
      "text/plain": [
       "<Figure size 432x288 with 0 Axes>"
      ]
     },
     "metadata": {},
     "output_type": "display_data"
    },
    {
     "data": {
      "text/plain": [
       "<Figure size 432x288 with 0 Axes>"
      ]
     },
     "metadata": {},
     "output_type": "display_data"
    }
   ],
   "source": [
    "for label in y_labels:\n",
    "    plt.figure(label)\n",
    "    if label!=\"branco\" and label!=\"full\":\n",
    "        y = G(x,*parameters[label])\n",
    "    else:\n",
    "        y = H(x,*parameters[label])\n",
    "    data = [go.Scatter(x=x,y=y), go.Line(x=normalized_data[x_label], y=normalized_data[label])]\n",
    "    fig = go.Figure(data)\n",
    "    plot(fig, filename=f\"plots/curve_fit_{label}.html\")\n",
    "    \"\"\"\n",
    "    plt.scatter(normalized_data[x_label],normalized_data[label])\n",
    "    plt.plot(x,y)\n",
    "    plt.savefig(f\"plots/curve_fit_{label}.png\")\n",
    "    plt.clf()\n",
    "    \"\"\""
   ]
  },
  {
   "cell_type": "code",
   "execution_count": 48,
   "metadata": {},
   "outputs": [],
   "source": [
    "import json"
   ]
  },
  {
   "cell_type": "code",
   "execution_count": 49,
   "metadata": {},
   "outputs": [],
   "source": [
    "p = {}\n",
    "for label, value in parameters.items():\n",
    "    p[label] = value.tolist()\n",
    "p[\"header\"] = [\"A0\",\"A1\",\"b0\",\"b1\",\"c0\",\"c1\",\"f0\",\"f1\",\"x00\",\"x01\"]"
   ]
  },
  {
   "cell_type": "code",
   "execution_count": 50,
   "metadata": {},
   "outputs": [],
   "source": [
    "with open(\"parameters.json\", \"w\") as f:\n",
    "    json.dump(p,f)"
   ]
  },
  {
   "cell_type": "markdown",
   "metadata": {},
   "source": [
    "Generator set\n",
    "============="
   ]
  },
  {
   "cell_type": "code",
   "execution_count": 51,
   "metadata": {},
   "outputs": [],
   "source": [
    "sorted_parameters = sorted(parameters.items(),key=lambda x: x[0]) #Choosing ordering to make sure the parameters don't get scrambled later"
   ]
  },
  {
   "cell_type": "code",
   "execution_count": 52,
   "metadata": {},
   "outputs": [],
   "source": [
    "def LinearCombination(x,alpha):\n",
    "    \"\"\"\n",
    "    alpha: Array of values for the coefficients of the linear combination. Must be within the interval [0,1]\n",
    "    \"\"\"\n",
    "    assert max(alpha)<=1 and min(alpha)>=0\n",
    "    s = 0\n",
    "    for d,a in zip(sorted_parameters,alpha):\n",
    "        if d[0]==\"branco\" or d[0]==\"full\":\n",
    "            s+=a*H(x,*d[1])\n",
    "        else:\n",
    "            s+=a*G(x,*d[1])\n",
    "    return s\n",
    "\n",
    "    "
   ]
  },
  {
   "cell_type": "code",
   "execution_count": 53,
   "metadata": {},
   "outputs": [
    {
     "data": {
      "text/plain": [
       "0.00010803138947874289"
      ]
     },
     "execution_count": 53,
     "metadata": {},
     "output_type": "execute_result"
    }
   ],
   "source": [
    "a = [np.abs(np.random.random()) for e in parameters.keys()]\n",
    "LinearCombination(0,a)"
   ]
  },
  {
   "cell_type": "markdown",
   "metadata": {},
   "source": [
    "<h2>Uniform spectrum</h2>"
   ]
  },
  {
   "cell_type": "code",
   "execution_count": 54,
   "metadata": {},
   "outputs": [],
   "source": [
    "x = np.linspace(0,1000,100)"
   ]
  },
  {
   "cell_type": "code",
   "execution_count": 55,
   "metadata": {},
   "outputs": [],
   "source": [
    "L = max(LinearCombination(x,[1 for i in parameters.keys()]))"
   ]
  },
  {
   "cell_type": "code",
   "execution_count": 56,
   "metadata": {},
   "outputs": [],
   "source": [
    "#y_uniform = [L/2]*len(x)\n",
    "y_uniform = lambda l: l*(np.heaviside(x-400,0)-np.heaviside(x-700,0))"
   ]
  },
  {
   "cell_type": "code",
   "execution_count": 57,
   "metadata": {},
   "outputs": [
    {
     "data": {
      "text/plain": [
       "0.00016958307730729523"
      ]
     },
     "execution_count": 57,
     "metadata": {},
     "output_type": "execute_result"
    }
   ],
   "source": [
    "LinearCombination(0,[1,1,1,1,1,1,1,.6,1])"
   ]
  },
  {
   "cell_type": "code",
   "execution_count": 58,
   "metadata": {},
   "outputs": [],
   "source": [
    "def wrapLinearCombination(x,alpha):\n",
    "    #Mapping parameters to [0,1]\n",
    "    nalpha = expit(alpha)\n",
    "    return LinearCombination(x,nalpha)"
   ]
  },
  {
   "cell_type": "code",
   "execution_count": 59,
   "metadata": {},
   "outputs": [],
   "source": [
    "uniform_fit = ocurve_fit(wrapLinearCombination,x,y_uniform(L/4),[0]*len(parameters.keys()))"
   ]
  },
  {
   "cell_type": "code",
   "execution_count": 60,
   "metadata": {},
   "outputs": [
    {
     "data": {
      "text/plain": [
       "array([0.25562753, 0.31970861, 0.39992645, 0.33635061, 0.23796888,\n",
       "       0.15699743, 0.21770274, 0.31430342, 0.99998601, 0.27923374])"
      ]
     },
     "execution_count": 60,
     "metadata": {},
     "output_type": "execute_result"
    }
   ],
   "source": [
    "expit(uniform_fit[\"x\"])"
   ]
  },
  {
   "cell_type": "code",
   "execution_count": 61,
   "metadata": {},
   "outputs": [
    {
     "data": {
      "text/plain": [
       "[<matplotlib.lines.Line2D at 0x7fdc8240be48>]"
      ]
     },
     "execution_count": 61,
     "metadata": {},
     "output_type": "execute_result"
    },
    {
     "data": {
      "image/png": "[encoded data removed]",
      "text/plain": [
       "<Figure size 432x288 with 1 Axes>"
      ]
     },
     "metadata": {
      "needs_background": "light"
     },
     "output_type": "display_data"
    }
   ],
   "source": [
    "plt.figure(0)\n",
    "plt.plot(x,wrapLinearCombination(x,uniform_fit[\"x\"]))\n",
    "plt.plot(x,y_uniform(L/4))"
   ]
  },
  {
   "cell_type": "code",
   "execution_count": 62,
   "metadata": {},
   "outputs": [],
   "source": [
    "def fit(l):\n",
    "    ofit = ocurve_fit(wrapLinearCombination,x,y_uniform(l),[0]*len(parameters.keys()))\n",
    "    return ofit[\"fun\"] + (L-l)"
   ]
  },
  {
   "cell_type": "code",
   "execution_count": 63,
   "metadata": {},
   "outputs": [],
   "source": [
    "best_l_fit = minimize(fit,L)"
   ]
  },
  {
   "cell_type": "code",
   "execution_count": 64,
   "metadata": {},
   "outputs": [
    {
     "data": {
      "text/plain": [
       "      fun: 0.34780360561843804\n",
       " hess_inv: array([[0.09544723]])\n",
       "      jac: array([0.00471471])\n",
       "  message: 'Desired error not necessarily achieved due to precision loss.'\n",
       "     nfev: 67\n",
       "      nit: 1\n",
       "     njev: 19\n",
       "   status: 2\n",
       "  success: False\n",
       "        x: array([0.13738098])"
      ]
     },
     "execution_count": 64,
     "metadata": {},
     "output_type": "execute_result"
    }
   ],
   "source": [
    "best_l_fit"
   ]
  },
  {
   "cell_type": "code",
   "execution_count": 65,
   "metadata": {},
   "outputs": [],
   "source": [
    "uniform_fit = ocurve_fit(wrapLinearCombination,x,y_uniform(best_l_fit[\"x\"]),[0]*len(parameters.keys()))"
   ]
  },
  {
   "cell_type": "code",
   "execution_count": 66,
   "metadata": {},
   "outputs": [
    {
     "data": {
      "text/plain": [
       "[<matplotlib.lines.Line2D at 0x7fdc81889358>]"
      ]
     },
     "execution_count": 66,
     "metadata": {},
     "output_type": "execute_result"
    },
    {
     "data": {
      "image/png": "[encoded data removed]",
      "text/plain": [
       "<Figure size 432x288 with 1 Axes>"
      ]
     },
     "metadata": {
      "needs_background": "light"
     },
     "output_type": "display_data"
    }
   ],
   "source": [
    "plt.figure(0)\n",
    "plt.plot(x,wrapLinearCombination(x,uniform_fit[\"x\"]))\n",
    "plt.plot(x,y_uniform(best_l_fit[\"x\"]))"
   ]
  },
  {
   "cell_type": "code",
   "execution_count": 73,
   "metadata": {},
   "outputs": [
    {
     "data": {
      "text/plain": [
       "[<matplotlib.lines.Line2D at 0x7fdc7ddd1390>]"
      ]
     },
     "execution_count": 73,
     "metadata": {},
     "output_type": "execute_result"
    },
    {
     "data": {
      "image/png": "[encoded data removed]",
      "text/plain": [
       "<Figure size 432x288 with 1 Axes>"
      ]
     },
     "metadata": {
      "needs_background": "light"
     },
     "output_type": "display_data"
    }
   ],
   "source": [
    "h = 0.1\n",
    "uniform_fit = ocurve_fit(wrapLinearCombination,x,y_uniform(h),[0]*len(parameters.keys()))\n",
    "plt.figure(0)\n",
    "plt.plot(x,wrapLinearCombination(x,uniform_fit[\"x\"]))\n",
    "plt.plot(x,y_uniform(h))"
   ]
  },
  {
   "cell_type": "code",
   "execution_count": 74,
   "metadata": {},
   "outputs": [
    {
     "data": {
      "text/plain": [
       "array([0.23459968, 0.30099616, 0.37546772, 0.28211687, 0.17609814,\n",
       "       0.14904441, 0.2145333 , 0.30246413, 0.99995375, 0.23291515])"
      ]
     },
     "execution_count": 74,
     "metadata": {},
     "output_type": "execute_result"
    }
   ],
   "source": [
    "neutral_spectrum_components  = expit(uniform_fit[\"x\"])\n",
    "neutral_spectrum_components"
   ]
  },
  {
   "cell_type": "code",
   "execution_count": 80,
   "metadata": {},
   "outputs": [],
   "source": [
    "with open(\"neutral_spectrum_components.json\",\"w\") as f:\n",
    "    json.dump({\"coefficients\":dict(zip(parameters.keys(),neutral_spectrum_components.tolist()))},f)"
   ]
  },
  {
   "cell_type": "code",
   "execution_count": 70,
   "metadata": {},
   "outputs": [
    {
     "data": {
      "text/plain": [
       "[<matplotlib.lines.Line2D at 0x7fdc7df208d0>]"
      ]
     },
     "execution_count": 70,
     "metadata": {},
     "output_type": "execute_result"
    },
    {
     "data": {
      "image/png": "[encoded data removed]",
      "text/plain": [
       "<Figure size 432x288 with 1 Axes>"
      ]
     },
     "metadata": {
      "needs_background": "light"
     },
     "output_type": "display_data"
    }
   ],
   "source": [
    "u = 0.1\n",
    "plt.figure(0)\n",
    "plt.plot(x,LinearCombination(x,u*neutral_spectrum_components))\n",
    "plt.plot(x,u*y_uniform(h))"
   ]
  },
  {
   "cell_type": "code",
   "execution_count": 81,
   "metadata": {},
   "outputs": [
    {
     "data": {
      "text/plain": [
       "[0.1490444072029084,\n",
       " 0.17609814440797206,\n",
       " 0.2145333049075533,\n",
       " 0.23291515239948163,\n",
       " 0.2345996831531853,\n",
       " 0.28211687274917013,\n",
       " 0.3009961550222661,\n",
       " 0.30246412667317074,\n",
       " 0.37546771741691637,\n",
       " 0.9999537477523128]"
      ]
     },
     "execution_count": 81,
     "metadata": {},
     "output_type": "execute_result"
    }
   ],
   "source": [
    "sorted(neutral_spectrum_components.tolist())"
   ]
  },
  {
   "cell_type": "code",
   "execution_count": null,
   "metadata": {},
   "outputs": [],
   "source": []
  }
 ],
 "metadata": {
  "kernelspec": {
   "display_name": "Python 3",
   "language": "python",
   "name": "python3"
  },
  "language_info": {
   "codemirror_mode": {
    "name": "ipython",
    "version": 3
   },
   "file_extension": ".py",
   "mimetype": "text/x-python",
   "name": "python",
   "nbconvert_exporter": "python",
   "pygments_lexer": "ipython3",
   "version": "3.6.9"
  }
 },
 "nbformat": 4,
 "nbformat_minor": 4
}
