{
 "cells": [
  {
   "cell_type": "code",
   "execution_count": 1,
   "id": "c785cb98-58c0-42bf-b43e-fb0ac3ef4af7",
   "metadata": {},
   "outputs": [],
   "source": [
    "import sys\n",
    "import os\n",
    "from IPython.display import clear_output"
   ]
  },
  {
   "cell_type": "code",
   "execution_count": 40,
   "id": "5e602694-2f09-4649-98d9-522a2a75d0f9",
   "metadata": {},
   "outputs": [],
   "source": [
    "import experiment_2 as e0"
   ]
  },
  {
   "cell_type": "code",
   "execution_count": 41,
   "id": "be03fd38-21e7-4c01-a2c2-22d18e8affdf",
   "metadata": {},
   "outputs": [
    {
     "data": {
      "text/plain": [
       "[{'id': 1,\n",
       "  'url': 'http://192.168.1.101:2001',\n",
       "  'IP': '192.168.1.101',\n",
       "  'name': 'R1'},\n",
       " {'id': 2,\n",
       "  'url': 'http://192.168.1.102:2001',\n",
       "  'IP': '192.168.1.102',\n",
       "  'name': 'R2'}]"
      ]
     },
     "execution_count": 41,
     "metadata": {},
     "output_type": "execute_result"
    }
   ],
   "source": [
    "e0.hanashi.get_available_servers()"
   ]
  },
  {
   "cell_type": "code",
   "execution_count": 42,
   "id": "fa761541-7bd6-47ab-b3d1-90dcf880e101",
   "metadata": {
    "tags": []
   },
   "outputs": [
    {
     "name": "stdout",
     "output_type": "stream",
     "text": [
      "200 http://192.168.1.101:2001/command\n",
      "ok\n",
      "200 http://192.168.1.102:2001/command\n",
      "ok\n"
     ]
    }
   ],
   "source": [
    "#HOTFIX\n",
    "e0.hanashi.arduino_command(\"quiet_connect\", wait_return=False)"
   ]
  },
  {
   "cell_type": "code",
   "execution_count": 43,
   "id": "94f4c9d0-06d4-4f35-b001-985038e351ae",
   "metadata": {},
   "outputs": [
    {
     "name": "stdout",
     "output_type": "stream",
     "text": [
      "200 http://192.168.1.101:2001/command\n",
      "ok\n",
      "200 http://192.168.1.102:2001/command\n",
      "ok\n"
     ]
    }
   ],
   "source": [
    "e0.hanashi.arduino_command(\"set(mododil,0)\")"
   ]
  },
  {
   "cell_type": "code",
   "execution_count": 44,
   "id": "050ca10d-eb9b-4194-bbb9-b2fa2201589c",
   "metadata": {},
   "outputs": [
    {
     "name": "stdout",
     "output_type": "stream",
     "text": [
      "200 http://192.168.1.101:2001/command\n",
      "ok\n",
      "200 http://192.168.1.102:2001/command\n",
      "ok\n"
     ]
    }
   ],
   "source": [
    "e0.hanashi.arduino_command(\"set(ar,50,modotemp,1,brilho,10,cor,3,ima,60,temp,27)\", wait_return=False)"
   ]
  },
  {
   "cell_type": "code",
   "execution_count": 45,
   "id": "c3498ca5-aa36-4e59-bc6d-9d79bf1e9a92",
   "metadata": {},
   "outputs": [
    {
     "name": "stdout",
     "output_type": "stream",
     "text": [
      "200 http://192.168.1.102:2001/command\n",
      "ok\n"
     ]
    }
   ],
   "source": [
    "#e0.hanashi.arduino_command(\"set(r,18,b,14,ir,18)\", wait_return=False, server_ids=[2])\n",
    "e0.hanashi.arduino_command(\"set(r,100,b,100,ir,100)\", wait_return=False, server_ids=[2])"
   ]
  },
  {
   "cell_type": "markdown",
   "id": "d7f3de1e-8d11-404c-956f-46fbc85fab38",
   "metadata": {},
   "source": [
    "### Sanity Test"
   ]
  },
  {
   "cell_type": "code",
   "execution_count": 46,
   "id": "3691a2b7-9e02-4328-83a2-647c7ff45189",
   "metadata": {},
   "outputs": [],
   "source": [
    "#e0.hanashi.arduino_command(\"dados\", wait_return=True)"
   ]
  },
  {
   "cell_type": "markdown",
   "id": "579cc574-d8d1-4b74-be25-5db60cb31b9a",
   "metadata": {},
   "source": [
    "### Run"
   ]
  },
  {
   "cell_type": "code",
   "execution_count": 47,
   "id": "2ea02bf5-b554-4664-908b-7486c498ebda",
   "metadata": {},
   "outputs": [],
   "source": [
    "C = e0.control()"
   ]
  },
  {
   "cell_type": "code",
   "execution_count": 48,
   "id": "7783eba0-6ad1-4a87-8b16-cb7723c38107",
   "metadata": {},
   "outputs": [],
   "source": [
    "C.reactors = [1,2]"
   ]
  },
  {
   "cell_type": "code",
   "execution_count": 49,
   "id": "269545ae-c33a-45a5-9c60-314626a5ee72",
   "metadata": {},
   "outputs": [],
   "source": [
    "#C.time_read = 5*60"
   ]
  },
  {
   "cell_type": "code",
   "execution_count": 50,
   "id": "55916c0b-ebc9-49c4-a528-69f97e3ba149",
   "metadata": {},
   "outputs": [],
   "source": [
    "C.time_read = 300"
   ]
  },
  {
   "cell_type": "code",
   "execution_count": 51,
   "id": "f8e11da6-38f5-4906-873c-00cbfca118c5",
   "metadata": {},
   "outputs": [
    {
     "name": "stdout",
     "output_type": "stream",
     "text": [
      "[06/28/21 - 16:45:48] Read start 300\n"
     ]
    }
   ],
   "source": [
    "C.start_read()"
   ]
  },
  {
   "cell_type": "code",
   "execution_count": 52,
   "id": "b751dfa8-41b5-42e2-a88f-4e993d047c8e",
   "metadata": {},
   "outputs": [
    {
     "name": "stdout",
     "output_type": "stream",
     "text": [
      "[06/28/21 - 16:45:48] Reading\n",
      "Moving data on batch_id 7681\n",
      "Nothing to move.\n",
      "Moving data on batch_id 7681\n",
      "Nothing to move.\n",
      "Sending packets...\n",
      "Executed batch post, 2 out of 2 returned 200.\n",
      "[06/28/21 - 16:46:31] Read completed\n"
     ]
    }
   ],
   "source": [
    "C.read()"
   ]
  },
  {
   "cell_type": "code",
   "execution_count": 53,
   "id": "48456ff4-f1c3-4cc0-a81b-9d0e877db78c",
   "metadata": {},
   "outputs": [],
   "source": [
    "#C.read_thread.cancel()"
   ]
  },
  {
   "cell_type": "code",
   "execution_count": null,
   "id": "202e3d5a-abf4-4286-a8ee-e01baac62c1a",
   "metadata": {},
   "outputs": [],
   "source": [
    "e0.hanashi.arduino_command(\"fim\")"
   ]
  },
  {
   "cell_type": "code",
   "execution_count": null,
   "id": "477a5e62-caec-4120-ab82-d115f8299c6f",
   "metadata": {},
   "outputs": [],
   "source": []
  }
 ],
 "metadata": {
  "kernelspec": {
   "display_name": "Python 3",
   "language": "python",
   "name": "python3"
  },
  "language_info": {
   "codemirror_mode": {
    "name": "ipython",
    "version": 3
   },
   "file_extension": ".py",
   "mimetype": "text/x-python",
   "name": "python",
   "nbconvert_exporter": "python",
   "pygments_lexer": "ipython3",
   "version": "3.7.3"
  }
 },
 "nbformat": 4,
 "nbformat_minor": 5
}
