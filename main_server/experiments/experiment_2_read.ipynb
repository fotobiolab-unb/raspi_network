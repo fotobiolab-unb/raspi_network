{
 "cells": [
  {
   "cell_type": "code",
   "execution_count": 1,
   "id": "c785cb98-58c0-42bf-b43e-fb0ac3ef4af7",
   "metadata": {},
   "outputs": [],
   "source": [
    "import sys\n",
    "import os"
   ]
  },
  {
   "cell_type": "code",
   "execution_count": 2,
   "id": "5e602694-2f09-4649-98d9-522a2a75d0f9",
   "metadata": {},
   "outputs": [],
   "source": [
    "import experiment_2 as e0"
   ]
  },
  {
   "cell_type": "code",
   "execution_count": 3,
   "id": "be03fd38-21e7-4c01-a2c2-22d18e8affdf",
   "metadata": {},
   "outputs": [
    {
     "data": {
      "text/plain": [
       "[{'id': 1,\n",
       "  'url': 'http://192.168.1.101:2001',\n",
       "  'IP': '192.168.1.101',\n",
       "  'name': 'R1'},\n",
       " {'id': 2,\n",
       "  'url': 'http://192.168.1.102:2001',\n",
       "  'IP': '192.168.1.102',\n",
       "  'name': 'R2'}]"
      ]
     },
     "execution_count": 3,
     "metadata": {},
     "output_type": "execute_result"
    }
   ],
   "source": [
    "e0.hanashi.get_available_servers()"
   ]
  },
  {
   "cell_type": "code",
   "execution_count": 4,
   "id": "2ea02bf5-b554-4664-908b-7486c498ebda",
   "metadata": {},
   "outputs": [],
   "source": [
    "C = e0.control()"
   ]
  },
  {
   "cell_type": "code",
   "execution_count": 5,
   "id": "7783eba0-6ad1-4a87-8b16-cb7723c38107",
   "metadata": {},
   "outputs": [],
   "source": [
    "C.reactors = [1,2]"
   ]
  },
  {
   "cell_type": "code",
   "execution_count": 6,
   "id": "a5daa8b4-2ac6-42e0-815c-dfc169de75e7",
   "metadata": {},
   "outputs": [],
   "source": [
    "#C.boot_string = \"set(ar,50,brilho,10,cor,3,ima,60,temp,27,modotemp,1)\"\n",
    "#C.boot()"
   ]
  },
  {
   "cell_type": "code",
   "execution_count": 7,
   "id": "269545ae-c33a-45a5-9c60-314626a5ee72",
   "metadata": {},
   "outputs": [],
   "source": [
    "#C.time_read = 900"
   ]
  },
  {
   "cell_type": "code",
   "execution_count": 8,
   "id": "39cc533e-6ff4-449d-acdb-f2186bbc3d18",
   "metadata": {},
   "outputs": [
    {
     "name": "stdout",
     "output_type": "stream",
     "text": [
      "[06/23/21 - 18:55:28] Reading\n",
      "Moving data on batch_id 7392\n",
      "Nothing to move.\n",
      "Moving data on batch_id 7392\n",
      "Nothing to move.\n",
      "Sending packets...\n",
      "Executed batch post, 2 out of 2 returned 200.\n",
      "[06/23/21 - 18:56:11] Read completed\n"
     ]
    }
   ],
   "source": [
    "C.read()"
   ]
  },
  {
   "cell_type": "code",
   "execution_count": 9,
   "id": "471c5776-c342-4a56-bc2a-b31b5f040bf7",
   "metadata": {},
   "outputs": [],
   "source": [
    "#C.start_read()"
   ]
  }
 ],
 "metadata": {
  "kernelspec": {
   "display_name": "Python 3",
   "language": "python",
   "name": "python3"
  },
  "language_info": {
   "codemirror_mode": {
    "name": "ipython",
    "version": 3
   },
   "file_extension": ".py",
   "mimetype": "text/x-python",
   "name": "python",
   "nbconvert_exporter": "python",
   "pygments_lexer": "ipython3",
   "version": "3.7.3"
  }
 },
 "nbformat": 4,
 "nbformat_minor": 5
}
