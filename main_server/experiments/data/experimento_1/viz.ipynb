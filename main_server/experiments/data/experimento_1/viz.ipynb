{
 "cells": [
  {
   "cell_type": "code",
   "execution_count": 1,
   "id": "d60b1fcb-0c58-48a5-967e-ab49c7e477be",
   "metadata": {},
   "outputs": [],
   "source": [
    "import plotly.express as px\n",
    "import pandas as pd"
   ]
  },
  {
   "cell_type": "code",
   "execution_count": 2,
   "id": "db72b844-c01e-4519-94a3-5825f1bfbfb5",
   "metadata": {},
   "outputs": [],
   "source": [
    "from glob import glob\n",
    "import os\n",
    "import json"
   ]
  },
  {
   "cell_type": "code",
   "execution_count": 3,
   "id": "bade9536-b70e-4ceb-b5fd-7d316adac8da",
   "metadata": {},
   "outputs": [],
   "source": [
    "class Struct:\n",
    "    def __init__(self, **entries):\n",
    "        self.__dict__.update(entries)"
   ]
  },
  {
   "cell_type": "code",
   "execution_count": 4,
   "id": "743997e2-6a3f-45e5-a684-37d21ef5d946",
   "metadata": {},
   "outputs": [],
   "source": [
    "data = {os.path.splitext(file)[0][14:]:pd.read_csv(file) for file in glob(\"*.csv\")}\n",
    "data = Struct(**data)"
   ]
  },
  {
   "cell_type": "code",
   "execution_count": 5,
   "id": "8cc72261-89a9-47b4-a7c5-2f9e5c06751f",
   "metadata": {},
   "outputs": [],
   "source": [
    "meta = {}\n",
    "with open('meta.json') as file:\n",
    "    meta = json.load(file)"
   ]
  },
  {
   "cell_type": "code",
   "execution_count": 6,
   "id": "a66a6cca-df1a-40da-9113-f41abd5313eb",
   "metadata": {},
   "outputs": [
    {
     "data": {
      "text/plain": [
       "dict_keys(['ph', 'densidade', 'crescimento'])"
      ]
     },
     "execution_count": 6,
     "metadata": {},
     "output_type": "execute_result"
    }
   ],
   "source": [
    "vars(data).keys()"
   ]
  },
  {
   "cell_type": "code",
   "execution_count": 11,
   "id": "538cf1d6-ad83-4d10-9e32-8f3e057d6cd7",
   "metadata": {
    "tags": []
   },
   "outputs": [],
   "source": [
    "for dim in vars(data).keys():\n",
    "    df = getattr(data,dim)\n",
    "    df[\"hour\"] = df[\"timedelta\"]/60/1000\n",
    "    fig = px.line(getattr(data,dim), x='hour', y=meta[\"axes\"][dim], color='id',template='plotly_white')\n",
    "    fig.update_layout(meta[\"layout\"][dim])\n",
    "    fig.update_traces(\n",
    "        {\n",
    "            'line':{\n",
    "                'width':4\n",
    "            }\n",
    "        }\n",
    "    )\n",
    "    fig.write_html(f\"../../plots/experimento_1/{dim}.html\")"
   ]
  },
  {
   "cell_type": "code",
   "execution_count": null,
   "id": "70121168-8eb5-4be5-b3c0-880fb7b59ff3",
   "metadata": {},
   "outputs": [],
   "source": []
  }
 ],
 "metadata": {
  "kernelspec": {
   "display_name": "Python 3",
   "language": "python",
   "name": "python3"
  },
  "language_info": {
   "codemirror_mode": {
    "name": "ipython",
    "version": 3
   },
   "file_extension": ".py",
   "mimetype": "text/x-python",
   "name": "python",
   "nbconvert_exporter": "python",
   "pygments_lexer": "ipython3",
   "version": "3.7.3"
  }
 },
 "nbformat": 4,
 "nbformat_minor": 5
}
